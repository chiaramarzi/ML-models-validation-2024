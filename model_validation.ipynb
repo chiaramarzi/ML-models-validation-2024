{
  "nbformat": 4,
  "nbformat_minor": 0,
  "metadata": {
    "colab": {
      "provenance": [],
      "mount_file_id": "1gvGP7WcCe1JJBZ5_HqgmvR_73QGLis3E",
      "authorship_tag": "ABX9TyOaE5t4UXf3/g3SAAj//5gR",
      "include_colab_link": true
    },
    "kernelspec": {
      "name": "python3",
      "display_name": "Python 3"
    },
    "language_info": {
      "name": "python"
    }
  },
  "cells": [
    {
      "cell_type": "markdown",
      "metadata": {
        "id": "view-in-github",
        "colab_type": "text"
      },
      "source": [
        "<a href=\"https://colab.research.google.com/github/chiaramarzi/ML-models-validation-2024/blob/main/model_validation.ipynb\" target=\"_parent\"><img src=\"https://colab.research.google.com/assets/colab-badge.svg\" alt=\"Open In Colab\"/></a>"
      ]
    },
    {
      "cell_type": "markdown",
      "source": [
        "# Artificial intelligence (AI) for health - potentials"
      ],
      "metadata": {
        "id": "VnJ86NLFWZu-"
      }
    },
    {
      "cell_type": "markdown",
      "source": [
        "*   **Data mining**: finding pattern in big data\n",
        "*   **Biomarker discovery**: determining potential (compound) biomarkers\n",
        "*   The **predicitive nature** of machine learning strategies is highly in line with the aim of clinical diagnosis and prognosis **in the single patient**"
      ],
      "metadata": {
        "id": "PdmYJBhKWdPa"
      }
    },
    {
      "cell_type": "markdown",
      "source": [
        "# Models validation"
      ],
      "metadata": {
        "id": "6abprWZRWi_I"
      }
    },
    {
      "cell_type": "markdown",
      "source": [
        "In machine learning, model validation is referred to as the process where a trained model is evaluated with a testing data set. The testing data set is a separate portion of the same data set from which the training set is derived.\n",
        "Model validation is carried out after model training.\n",
        "\n",
        "Estimation of **unbiased generalization performance** of the model"
      ],
      "metadata": {
        "id": "PAFJwHRaWmt7"
      }
    },
    {
      "cell_type": "markdown",
      "source": [
        "# Gene mutation prediction based on neuroimaging features"
      ],
      "metadata": {
        "id": "zUcef_MloSgw"
      }
    },
    {
      "cell_type": "markdown",
      "source": [
        "*   Can we predict the presence/absence of genetic mutation using neuorimaging features?\n",
        "*   Data: multicenter dataset containing the radiomics features extracted from brain lesions segmented on T1- and T2-weighted MR images\n",
        "  * 250 patients, examined in 10 institutions (different MRI scanners and protocols), 25 patients for each institution\n",
        "  * Each patient presents a brain lesion, visible in 3D T1- and T2-weighted MR images\n",
        "  * 200 radiomic features (100 from T1-weighted MR image and 100 from T2-weighted MR image) describing the lesion's morphology, contrast, texture, etc.\n",
        "  * Each patient underwent genetic testing to determine if they had a specific genetic mutation\n",
        "\n",
        "\n",
        "  "
      ],
      "metadata": {
        "id": "V6_OxaEZoc02"
      }
    },
    {
      "cell_type": "markdown",
      "source": [
        "# Outline"
      ],
      "metadata": {
        "id": "Kf0OaSY2WsZw"
      }
    },
    {
      "cell_type": "markdown",
      "source": [
        "Simple validation schemes:\n",
        "1.   Holdout validation\n",
        "2.   K-fold cross-validation (kfoldCV)\n",
        "3.   Leave-One-Out CV (LOOCV)\n",
        "4.   Group K-Fold Cross-Validation (gkfoldCV)\n",
        "5.   Leave-One-Group-Out CV (LOGOCV)\n",
        "\n",
        "Sampling bias:\n",
        "6.   Repetition of holdout validation\n",
        "\n",
        "Unbalanced datasets\n",
        "7.   Stratified holdout validation\n",
        "8.   Stratified kfoldCV\n",
        "\n",
        "Hyperparameters tuning:\n",
        "9.   Training, validation and test set: the nested kfoldCV\n",
        "\n"
      ],
      "metadata": {
        "id": "8XfngQ-PWv0u"
      }
    },
    {
      "cell_type": "markdown",
      "source": [
        "# Cloning repository, libraries and data loading"
      ],
      "metadata": {
        "id": "I-gXlmixpVEE"
      }
    },
    {
      "cell_type": "code",
      "source": [
        "# My repo cloning\n",
        "! git clone https://github.com/chiaramarzi/ML-models-validation-2024\n",
        "\n",
        "%cd /content/ML-models-validation-2024\n",
        "! git pull"
      ],
      "metadata": {
        "colab": {
          "base_uri": "https://localhost:8080/"
        },
        "id": "lvW6MfUKXmTI",
        "outputId": "2b30ba2a-805b-410b-9d32-e06b991e33de"
      },
      "execution_count": 1,
      "outputs": [
        {
          "output_type": "stream",
          "name": "stdout",
          "text": [
            "Cloning into 'ML-models-validation-2024'...\n",
            "remote: Enumerating objects: 322, done.\u001b[K\n",
            "remote: Counting objects: 100% (322/322), done.\u001b[K\n",
            "remote: Compressing objects: 100% (182/182), done.\u001b[K\n",
            "remote: Total 322 (delta 178), reused 243 (delta 137), pack-reused 0\u001b[K\n",
            "Receiving objects: 100% (322/322), 15.33 MiB | 21.36 MiB/s, done.\n",
            "Resolving deltas: 100% (178/178), done.\n",
            "/content/ML-models-validation-2024\n",
            "Already up to date.\n"
          ]
        }
      ]
    },
    {
      "cell_type": "code",
      "source": [
        "# Libraries loading\n",
        "import numpy as np\n",
        "import pandas as pd\n",
        "from sklearn.datasets import load_iris\n",
        "from sklearn.model_selection import (train_test_split, KFold, StratifiedKFold,\n",
        "                                     LeaveOneOut, LeaveOneGroupOut, ShuffleSplit,\n",
        "                                     GroupKFold, cross_validate, GridSearchCV)\n",
        "from sklearn.ensemble import RandomForestClassifier\n",
        "from sklearn.metrics import accuracy_score"
      ],
      "metadata": {
        "id": "HHOLfos-arhl"
      },
      "execution_count": 2,
      "outputs": []
    },
    {
      "cell_type": "code",
      "source": [
        "#cd \"drive/MyDrive/Colab Notebooks/\""
      ],
      "metadata": {
        "id": "3aKKAMWUO4id"
      },
      "execution_count": null,
      "outputs": []
    },
    {
      "cell_type": "code",
      "source": [
        "# Data loading\n",
        "data = pd.read_csv(\"simulated_data.csv\")\n",
        "X = data.iloc[:, 2::]\n",
        "y = data[\"Gene_mutation\"]\n",
        "groups = data[\"Institution\"]"
      ],
      "metadata": {
        "id": "2CUCSE_ha57I"
      },
      "execution_count": 3,
      "outputs": []
    },
    {
      "cell_type": "code",
      "source": [
        "# Random Forest classifier inizialization\n",
        "model = RandomForestClassifier(random_state = 42)"
      ],
      "metadata": {
        "id": "oImV8G5zbBb1"
      },
      "execution_count": 4,
      "outputs": []
    },
    {
      "cell_type": "markdown",
      "source": [
        "# 1. Holdout validation"
      ],
      "metadata": {
        "id": "Jqmm7A7rpFh0"
      }
    },
    {
      "cell_type": "markdown",
      "source": [
        "The principle is simple, you simply split your data randomly into roughly X% used for training the model and (1-X)% for testing the model.\n",
        "\n",
        "![](https://raw.githubusercontent.com/chiaramarzi/ML-models-validation-2024/main/figures/Holdout.png)\n",
        "\n",
        "\n"
      ],
      "metadata": {
        "id": "LEoglmOYpcMo"
      }
    },
    {
      "cell_type": "code",
      "source": [
        "# 1. Train-Test Split\n",
        "print(\"1. Train-Test Split\")\n",
        "X_train, X_test, y_train, y_test = train_test_split(X, y, test_size=0.2, random_state=42, stratify = None)\n",
        "print(\"Training set:\", list(X_train.index))\n",
        "print(\"Test set:\", list(X_test.index))\n",
        "model.fit(X_train, y_train)\n",
        "train_acc = accuracy_score(y_train, model.predict(X_train))\n",
        "test_acc = accuracy_score(y_test, model.predict(X_test))\n",
        "print('#####')\n",
        "print(f\"Training Accuracy: {train_acc}\")\n",
        "print(f\"Test Accuracy: {test_acc}\\n\")"
      ],
      "metadata": {
        "colab": {
          "base_uri": "https://localhost:8080/"
        },
        "id": "_8OwDdthbIqo",
        "outputId": "4508e02c-ce5c-4b80-f7d9-19d72e523fb1"
      },
      "execution_count": 5,
      "outputs": [
        {
          "output_type": "stream",
          "name": "stdout",
          "text": [
            "1. Train-Test Split\n",
            "Training set: [132, 225, 238, 119, 136, 66, 217, 154, 168, 229, 233, 156, 117, 84, 125, 167, 245, 109, 172, 234, 73, 158, 115, 75, 237, 82, 29, 126, 79, 86, 5, 56, 186, 231, 170, 65, 140, 124, 213, 148, 31, 12, 35, 28, 42, 218, 22, 93, 212, 101, 51, 95, 143, 199, 76, 41, 113, 152, 78, 147, 26, 241, 164, 243, 137, 0, 2, 77, 46, 100, 127, 150, 248, 90, 85, 175, 195, 98, 36, 61, 162, 139, 11, 244, 198, 27, 155, 4, 122, 32, 144, 178, 138, 62, 135, 128, 226, 205, 70, 192, 64, 44, 165, 40, 123, 153, 23, 211, 183, 81, 39, 209, 47, 94, 190, 161, 43, 145, 182, 3, 105, 53, 133, 227, 193, 232, 49, 163, 80, 34, 206, 7, 171, 110, 91, 83, 223, 228, 89, 8, 13, 59, 215, 131, 17, 166, 72, 220, 134, 204, 230, 63, 54, 107, 50, 239, 174, 208, 189, 246, 207, 221, 169, 58, 48, 88, 21, 57, 203, 160, 242, 187, 191, 129, 37, 157, 235, 1, 52, 149, 130, 151, 103, 99, 116, 87, 202, 74, 214, 210, 121, 249, 20, 188, 71, 106, 14, 92, 179, 102]\n",
            "Test set: [142, 6, 97, 60, 112, 181, 197, 184, 9, 104, 200, 216, 236, 240, 67, 224, 194, 15, 177, 24, 247, 19, 114, 68, 176, 45, 55, 10, 30, 120, 201, 33, 141, 219, 25, 111, 18, 196, 180, 159, 118, 96, 108, 185, 222, 16, 146, 69, 173, 38]\n",
            "#####\n",
            "Training Accuracy: 1.0\n",
            "Test Accuracy: 0.66\n",
            "\n"
          ]
        }
      ]
    },
    {
      "cell_type": "markdown",
      "source": [
        "# 2. K-fold cross-validation (kfoldCV)"
      ],
      "metadata": {
        "id": "JHpZSTi4plZd"
      }
    },
    {
      "cell_type": "markdown",
      "source": [
        "It splits the data into k folds, then trains the data on k-1 folds and test on the one fold that was left out. It does this for all folds and averages the results obtained in the k test folds.  \n",
        "\n",
        "![](https://raw.githubusercontent.com/chiaramarzi/ML-models-validation-2024/main/figures/kfoldCV.png)\n",
        "\n",
        "The advantage is that all observations are used for both training and validation, and each observation is used once for validation.\n",
        "\n",
        "We typically choose either k=5 or k=10 as they find a nice balance between computational complexity and validation accuracy.\n",
        "\n",
        "The scores of each fold from CV techniques are more insightful than one may think. They are mostly used to simply extract the average performance. However, one might also look at the variance or standard deviation of the resulting folds as it will give information about the stability of the model across different data inputs."
      ],
      "metadata": {
        "id": "3nsnYJ4VpkJ2"
      }
    },
    {
      "cell_type": "code",
      "source": [
        "# 2. K-Fold Cross-Validation\n",
        "print(\"2. K-Fold Cross-Validation\")\n",
        "kf = KFold(n_splits=5, shuffle=True, random_state=42)\n",
        "for i, (train_index, test_index) in enumerate(kf.split(X)):\n",
        "    print(f\"Fold {i}:\")\n",
        "    print(f\"  Train: index={train_index}\")\n",
        "    print(f\"  Test:  index={test_index}\")\n",
        "\n",
        "scores = cross_validate(model, X, y, cv = kf, scoring='accuracy', return_train_score=True)\n",
        "print('#####')\n",
        "print(f\"Training Accuracies: {scores['train_score']}\")\n",
        "print(f\"Test Accuracies: {scores['test_score']}\\n\")\n",
        "print(f\"Mean Training Accuracy: {np.mean(scores['train_score'])}\")\n",
        "print(f\"Std Training Accuracy: {np.std(scores['train_score'])}\\n\")\n",
        "print(f\"Mean Test Accuracy: {np.mean(scores['test_score'])}\")\n",
        "print(f\"Std Test Accuracy: {np.std(scores['test_score'])}\\n\")"
      ],
      "metadata": {
        "colab": {
          "base_uri": "https://localhost:8080/"
        },
        "id": "ypqxYs1ybvMi",
        "outputId": "d68e8adf-0369-4550-8c7b-9659cd6ec586"
      },
      "execution_count": 6,
      "outputs": [
        {
          "output_type": "stream",
          "name": "stdout",
          "text": [
            "2. K-Fold Cross-Validation\n",
            "Fold 0:\n",
            "  Train: index=[  0   1   2   3   4   5   7   8  11  12  13  14  17  20  21  22  23  26\n",
            "  27  28  29  31  32  34  35  36  37  39  40  41  42  43  44  46  47  48\n",
            "  49  50  51  52  53  54  56  57  58  59  61  62  63  64  65  66  70  71\n",
            "  72  73  74  75  76  77  78  79  80  81  82  83  84  85  86  87  88  89\n",
            "  90  91  92  93  94  95  98  99 100 101 102 103 105 106 107 109 110 113\n",
            " 115 116 117 119 121 122 123 124 125 126 127 128 129 130 131 132 133 134\n",
            " 135 136 137 138 139 140 143 144 145 147 148 149 150 151 152 153 154 155\n",
            " 156 157 158 160 161 162 163 164 165 166 167 168 169 170 171 172 174 175\n",
            " 178 179 182 183 186 187 188 189 190 191 192 193 195 198 199 202 203 204\n",
            " 205 206 207 208 209 210 211 212 213 214 215 217 218 220 221 223 225 226\n",
            " 227 228 229 230 231 232 233 234 235 237 238 239 241 242 243 244 245 246\n",
            " 248 249]\n",
            "  Test:  index=[  6   9  10  15  16  18  19  24  25  30  33  38  45  55  60  67  68  69\n",
            "  96  97 104 108 111 112 114 118 120 141 142 146 159 173 176 177 180 181\n",
            " 184 185 194 196 197 200 201 216 219 222 224 236 240 247]\n",
            "Fold 1:\n",
            "  Train: index=[  0   1   2   3   4   6   7   8   9  10  11  13  14  15  16  17  18  19\n",
            "  20  21  23  24  25  26  27  30  32  33  34  36  37  38  39  40  41  43\n",
            "  44  45  46  47  48  49  50  51  52  53  54  55  57  58  59  60  61  62\n",
            "  63  64  67  68  69  70  71  72  74  76  77  78  80  81  83  85  87  88\n",
            "  89  90  91  92  94  95  96  97  98  99 100 102 103 104 105 106 107 108\n",
            " 110 111 112 113 114 116 118 120 121 122 123 127 128 129 130 131 133 134\n",
            " 135 137 138 139 141 142 143 144 145 146 147 149 150 151 152 153 155 157\n",
            " 159 160 161 162 163 164 165 166 169 171 173 174 175 176 177 178 179 180\n",
            " 181 182 183 184 185 187 188 189 190 191 192 193 194 195 196 197 198 199\n",
            " 200 201 202 203 204 205 206 207 208 209 210 211 214 215 216 219 220 221\n",
            " 222 223 224 226 227 228 230 232 235 236 239 240 241 242 243 244 246 247\n",
            " 248 249]\n",
            "  Test:  index=[  5  12  22  28  29  31  35  42  56  65  66  73  75  79  82  84  86  93\n",
            " 101 109 115 117 119 124 125 126 132 136 140 148 154 156 158 167 168 170\n",
            " 172 186 212 213 217 218 225 229 231 233 234 237 238 245]\n",
            "Fold 2:\n",
            "  Train: index=[  1   3   5   6   7   8   9  10  12  13  14  15  16  17  18  19  20  21\n",
            "  22  23  24  25  28  29  30  31  33  34  35  37  38  39  40  42  43  44\n",
            "  45  47  48  49  50  52  53  54  55  56  57  58  59  60  63  64  65  66\n",
            "  67  68  69  71  72  73  74  75  79  80  81  82  83  84  86  87  88  89\n",
            "  91  92  93  94  96  97  99 101 102 103 104 105 106 107 108 109 110 111\n",
            " 112 114 115 116 117 118 119 120 121 123 124 125 126 129 130 131 132 133\n",
            " 134 136 140 141 142 145 146 148 149 151 153 154 156 157 158 159 160 161\n",
            " 163 165 166 167 168 169 170 171 172 173 174 176 177 179 180 181 182 183\n",
            " 184 185 186 187 188 189 190 191 193 194 196 197 200 201 202 203 204 206\n",
            " 207 208 209 210 211 212 213 214 215 216 217 218 219 220 221 222 223 224\n",
            " 225 227 228 229 230 231 232 233 234 235 236 237 238 239 240 242 245 246\n",
            " 247 249]\n",
            "  Test:  index=[  0   2   4  11  26  27  32  36  41  46  51  61  62  70  76  77  78  85\n",
            "  90  95  98 100 113 122 127 128 135 137 138 139 143 144 147 150 152 155\n",
            " 162 164 175 178 192 195 198 199 205 226 241 243 244 248]\n",
            "Fold 3:\n",
            "  Train: index=[  0   1   2   4   5   6   9  10  11  12  14  15  16  18  19  20  21  22\n",
            "  24  25  26  27  28  29  30  31  32  33  35  36  37  38  41  42  45  46\n",
            "  48  50  51  52  54  55  56  57  58  60  61  62  63  65  66  67  68  69\n",
            "  70  71  73  74  75  76  77  78  79  82  84  85  86  87  88  90  92  93\n",
            "  95  96  97  98  99 100 101 102 103 104 106 107 108 109 111 112 113 114\n",
            " 115 116 117 118 119 120 121 122 124 125 126 127 128 129 130 132 135 136\n",
            " 137 138 139 140 141 142 143 144 146 147 148 149 150 151 152 154 155 156\n",
            " 157 158 159 160 162 164 167 168 169 170 172 173 174 175 176 177 178 179\n",
            " 180 181 184 185 186 187 188 189 191 192 194 195 196 197 198 199 200 201\n",
            " 202 203 205 207 208 210 212 213 214 216 217 218 219 221 222 224 225 226\n",
            " 229 230 231 233 234 235 236 237 238 239 240 241 242 243 244 245 246 247\n",
            " 248 249]\n",
            "  Test:  index=[  3   7   8  13  17  23  34  39  40  43  44  47  49  53  59  64  72  80\n",
            "  81  83  89  91  94 105 110 123 131 133 134 145 153 161 163 165 166 171\n",
            " 182 183 190 193 204 206 209 211 215 220 223 227 228 232]\n",
            "Fold 4:\n",
            "  Train: index=[  0   2   3   4   5   6   7   8   9  10  11  12  13  15  16  17  18  19\n",
            "  22  23  24  25  26  27  28  29  30  31  32  33  34  35  36  38  39  40\n",
            "  41  42  43  44  45  46  47  49  51  53  55  56  59  60  61  62  64  65\n",
            "  66  67  68  69  70  72  73  75  76  77  78  79  80  81  82  83  84  85\n",
            "  86  89  90  91  93  94  95  96  97  98 100 101 104 105 108 109 110 111\n",
            " 112 113 114 115 117 118 119 120 122 123 124 125 126 127 128 131 132 133\n",
            " 134 135 136 137 138 139 140 141 142 143 144 145 146 147 148 150 152 153\n",
            " 154 155 156 158 159 161 162 163 164 165 166 167 168 170 171 172 173 175\n",
            " 176 177 178 180 181 182 183 184 185 186 190 192 193 194 195 196 197 198\n",
            " 199 200 201 204 205 206 209 211 212 213 215 216 217 218 219 220 222 223\n",
            " 224 225 226 227 228 229 231 232 233 234 236 237 238 240 241 243 244 245\n",
            " 247 248]\n",
            "  Test:  index=[  1  14  20  21  37  48  50  52  54  57  58  63  71  74  87  88  92  99\n",
            " 102 103 106 107 116 121 129 130 149 151 157 160 169 174 179 187 188 189\n",
            " 191 202 203 207 208 210 214 221 230 235 239 242 246 249]\n",
            "#####\n",
            "Training Accuracies: [1. 1. 1. 1. 1.]\n",
            "Test Accuracies: [0.66 0.64 0.58 0.62 0.66]\n",
            "\n",
            "Mean Training Accuracy: 1.0\n",
            "Std Training Accuracy: 0.0\n",
            "\n",
            "Mean Test Accuracy: 0.632\n",
            "Std Test Accuracy: 0.029933259094191558\n",
            "\n"
          ]
        }
      ]
    },
    {
      "cell_type": "markdown",
      "source": [
        "# 3. Leave-One-Out CV (LOOCV)"
      ],
      "metadata": {
        "id": "Evktd9ZhqoHS"
      }
    },
    {
      "cell_type": "markdown",
      "source": [
        "A variant of k-fold CV is Leave-one-out Cross-Validation (LOOCV).\n",
        "\n",
        "LOOCV uses each sample in the data as a separate test set while all remaining samples form the training set. This variant is identical to k-fold CV when k = n (number of observations).\n",
        "\n",
        "LOOCV is computationally very costly as the model needs to be trained n times. Only do this if the dataset is small or if you can handle that many computations."
      ],
      "metadata": {
        "id": "ZaSeWG2ZqoPW"
      }
    },
    {
      "cell_type": "code",
      "source": [
        "# 3. Leave-One-Out Cross-Validation (LOO)\n",
        "print(\"3. Leave-One-Out Cross-Validation (LOO)\")\n",
        "loo = LeaveOneOut()\n",
        "scores = cross_validate(model, X, y, cv = loo, scoring='accuracy', return_train_score=True)\n",
        "print('#####')\n",
        "print(f\"Training Accuracies: {scores['train_score']}\")\n",
        "print(f\"Test Accuracies: {scores['test_score']}\\n\")\n",
        "print(f\"Mean Training Accuracy: {np.mean(scores['train_score'])}\")\n",
        "print(f\"Std Training Accuracy: {np.std(scores['train_score'])}\\n\")\n",
        "print(f\"Mean Test Accuracy: {np.mean(scores['test_score'])}\")\n",
        "print(f\"Std Test Accuracy: {np.std(scores['test_score'])}\\n\")"
      ],
      "metadata": {
        "colab": {
          "base_uri": "https://localhost:8080/"
        },
        "id": "3qhhnqOGr8zv",
        "outputId": "d14d41d1-5468-46d9-c3a0-8572841ce202"
      },
      "execution_count": 7,
      "outputs": [
        {
          "output_type": "stream",
          "name": "stdout",
          "text": [
            "3. Leave-One-Out Cross-Validation (LOO)\n",
            "#####\n",
            "Training Accuracies: [1. 1. 1. 1. 1. 1. 1. 1. 1. 1. 1. 1. 1. 1. 1. 1. 1. 1. 1. 1. 1. 1. 1. 1.\n",
            " 1. 1. 1. 1. 1. 1. 1. 1. 1. 1. 1. 1. 1. 1. 1. 1. 1. 1. 1. 1. 1. 1. 1. 1.\n",
            " 1. 1. 1. 1. 1. 1. 1. 1. 1. 1. 1. 1. 1. 1. 1. 1. 1. 1. 1. 1. 1. 1. 1. 1.\n",
            " 1. 1. 1. 1. 1. 1. 1. 1. 1. 1. 1. 1. 1. 1. 1. 1. 1. 1. 1. 1. 1. 1. 1. 1.\n",
            " 1. 1. 1. 1. 1. 1. 1. 1. 1. 1. 1. 1. 1. 1. 1. 1. 1. 1. 1. 1. 1. 1. 1. 1.\n",
            " 1. 1. 1. 1. 1. 1. 1. 1. 1. 1. 1. 1. 1. 1. 1. 1. 1. 1. 1. 1. 1. 1. 1. 1.\n",
            " 1. 1. 1. 1. 1. 1. 1. 1. 1. 1. 1. 1. 1. 1. 1. 1. 1. 1. 1. 1. 1. 1. 1. 1.\n",
            " 1. 1. 1. 1. 1. 1. 1. 1. 1. 1. 1. 1. 1. 1. 1. 1. 1. 1. 1. 1. 1. 1. 1. 1.\n",
            " 1. 1. 1. 1. 1. 1. 1. 1. 1. 1. 1. 1. 1. 1. 1. 1. 1. 1. 1. 1. 1. 1. 1. 1.\n",
            " 1. 1. 1. 1. 1. 1. 1. 1. 1. 1. 1. 1. 1. 1. 1. 1. 1. 1. 1. 1. 1. 1. 1. 1.\n",
            " 1. 1. 1. 1. 1. 1. 1. 1. 1. 1.]\n",
            "Test Accuracies: [1. 0. 1. 1. 1. 1. 1. 1. 1. 1. 1. 0. 1. 0. 1. 0. 1. 1. 0. 1. 0. 1. 0. 0.\n",
            " 1. 0. 0. 1. 1. 0. 1. 1. 1. 1. 1. 1. 0. 1. 1. 0. 0. 0. 1. 1. 1. 1. 1. 0.\n",
            " 0. 0. 0. 1. 1. 1. 1. 0. 1. 1. 1. 1. 0. 0. 0. 1. 1. 0. 0. 0. 0. 1. 0. 1.\n",
            " 1. 1. 1. 1. 1. 1. 0. 1. 1. 0. 1. 1. 0. 1. 1. 1. 1. 1. 0. 0. 1. 0. 0. 0.\n",
            " 1. 0. 1. 0. 1. 1. 1. 1. 0. 1. 1. 0. 1. 0. 1. 1. 0. 0. 1. 0. 0. 0. 1. 1.\n",
            " 1. 1. 1. 1. 0. 1. 0. 0. 1. 0. 0. 1. 0. 1. 0. 0. 1. 1. 0. 1. 1. 1. 1. 1.\n",
            " 1. 1. 0. 0. 0. 1. 0. 1. 1. 1. 0. 1. 1. 1. 0. 1. 1. 1. 1. 1. 0. 0. 1. 0.\n",
            " 1. 1. 1. 1. 1. 0. 0. 0. 1. 1. 1. 1. 0. 1. 0. 0. 1. 1. 1. 1. 1. 0. 1. 1.\n",
            " 1. 1. 1. 1. 1. 1. 0. 1. 0. 1. 0. 0. 1. 0. 1. 1. 1. 0. 1. 0. 1. 1. 1. 1.\n",
            " 1. 1. 1. 1. 1. 1. 1. 0. 0. 0. 1. 1. 0. 1. 0. 0. 1. 0. 1. 1. 1. 0. 1. 1.\n",
            " 1. 0. 1. 1. 0. 1. 1. 0. 0. 1.]\n",
            "\n",
            "Mean Training Accuracy: 1.0\n",
            "Std Training Accuracy: 0.0\n",
            "\n",
            "Mean Test Accuracy: 0.64\n",
            "Std Test Accuracy: 0.48\n",
            "\n"
          ]
        }
      ]
    },
    {
      "cell_type": "markdown",
      "source": [
        "# 4. Group K-Fold Cross-Validation (gkfoldCV)"
      ],
      "metadata": {
        "id": "-Q2eY7boq1X-"
      }
    },
    {
      "cell_type": "markdown",
      "source": [
        "It is a variant of the conventional kfoldsCV, which encapsulates in the validation scheme a peculiar structure of the dataset, i.e., the presence of a hierarchical structure.  \n",
        "Each \"parent node\", called \"group\" in machine lerning terminology, will appear exactly once in the test set across all folds (the number of distinct groups has to be at least equal to the number of folds)."
      ],
      "metadata": {
        "id": "8xhMDYy-rIJR"
      }
    },
    {
      "cell_type": "code",
      "source": [
        "# 4. Group K-Fold Cross-Validation\n",
        "print(\"4. Group K-Fold Cross-Validation\")\n",
        "gkf = GroupKFold(n_splits=5)\n",
        "for i, (train_index, test_index) in enumerate(gkf.split(X, y, groups)):\n",
        "    print(f\"Fold {i}:\")\n",
        "    print(f\"  Train: index={train_index}, group={list(groups[train_index])}\")\n",
        "    print(f\"  Test:  index={test_index}, group={list(groups[test_index])}\")\n",
        "scores = cross_validate(model, X, y, groups = groups, cv = gkf, scoring='accuracy', return_train_score=True)\n",
        "print('#####')\n",
        "print(f\"Training Accuracies: {scores['train_score']}\")\n",
        "print(f\"Test Accuracies: {scores['test_score']}\\n\")\n",
        "print(f\"Mean Training Accuracy: {np.mean(scores['train_score'])}\")\n",
        "print(f\"Std Training Accuracy: {np.std(scores['train_score'])}\\n\")\n",
        "print(f\"Mean Test Accuracy: {np.mean(scores['test_score'])}\")\n",
        "print(f\"Std Test Accuracy: {np.std(scores['test_score'])}\\n\")"
      ],
      "metadata": {
        "colab": {
          "base_uri": "https://localhost:8080/"
        },
        "id": "xIwfsepNvSfA",
        "outputId": "f3b647dd-8dc1-459e-ec64-298661bf7c77"
      },
      "execution_count": 8,
      "outputs": [
        {
          "output_type": "stream",
          "name": "stdout",
          "text": [
            "4. Group K-Fold Cross-Validation\n",
            "Fold 0:\n",
            "  Train: index=[  0   1   2   3   4   5   6   7   8   9  10  11  12  13  14  15  16  17\n",
            "  18  19  20  21  22  23  24  25  26  27  28  29  30  31  32  33  34  35\n",
            "  36  37  38  39  40  41  42  43  44  45  46  47  48  49  50  51  52  53\n",
            "  54  55  56  57  58  59  60  61  62  63  64  65  66  67  68  69  70  71\n",
            "  72  73  74  75  76  77  78  79  80  81  82  83  84  85  86  87  88  89\n",
            "  90  91  92  93  94  95  96  97  98  99 125 126 127 128 129 130 131 132\n",
            " 133 134 135 136 137 138 139 140 141 142 143 144 145 146 147 148 149 150\n",
            " 151 152 153 154 155 156 157 158 159 160 161 162 163 164 165 166 167 168\n",
            " 169 170 171 172 173 174 175 176 177 178 179 180 181 182 183 184 185 186\n",
            " 187 188 189 190 191 192 193 194 195 196 197 198 199 200 201 202 203 204\n",
            " 205 206 207 208 209 210 211 212 213 214 215 216 217 218 219 220 221 222\n",
            " 223 224], group=['A', 'A', 'A', 'A', 'A', 'A', 'A', 'A', 'A', 'A', 'A', 'A', 'A', 'A', 'A', 'A', 'A', 'A', 'A', 'A', 'A', 'A', 'A', 'A', 'A', 'B', 'B', 'B', 'B', 'B', 'B', 'B', 'B', 'B', 'B', 'B', 'B', 'B', 'B', 'B', 'B', 'B', 'B', 'B', 'B', 'B', 'B', 'B', 'B', 'B', 'C', 'C', 'C', 'C', 'C', 'C', 'C', 'C', 'C', 'C', 'C', 'C', 'C', 'C', 'C', 'C', 'C', 'C', 'C', 'C', 'C', 'C', 'C', 'C', 'C', 'D', 'D', 'D', 'D', 'D', 'D', 'D', 'D', 'D', 'D', 'D', 'D', 'D', 'D', 'D', 'D', 'D', 'D', 'D', 'D', 'D', 'D', 'D', 'D', 'D', 'F', 'F', 'F', 'F', 'F', 'F', 'F', 'F', 'F', 'F', 'F', 'F', 'F', 'F', 'F', 'F', 'F', 'F', 'F', 'F', 'F', 'F', 'F', 'F', 'F', 'G', 'G', 'G', 'G', 'G', 'G', 'G', 'G', 'G', 'G', 'G', 'G', 'G', 'G', 'G', 'G', 'G', 'G', 'G', 'G', 'G', 'G', 'G', 'G', 'G', 'H', 'H', 'H', 'H', 'H', 'H', 'H', 'H', 'H', 'H', 'H', 'H', 'H', 'H', 'H', 'H', 'H', 'H', 'H', 'H', 'H', 'H', 'H', 'H', 'H', 'I', 'I', 'I', 'I', 'I', 'I', 'I', 'I', 'I', 'I', 'I', 'I', 'I', 'I', 'I', 'I', 'I', 'I', 'I', 'I', 'I', 'I', 'I', 'I', 'I']\n",
            "  Test:  index=[100 101 102 103 104 105 106 107 108 109 110 111 112 113 114 115 116 117\n",
            " 118 119 120 121 122 123 124 225 226 227 228 229 230 231 232 233 234 235\n",
            " 236 237 238 239 240 241 242 243 244 245 246 247 248 249], group=['E', 'E', 'E', 'E', 'E', 'E', 'E', 'E', 'E', 'E', 'E', 'E', 'E', 'E', 'E', 'E', 'E', 'E', 'E', 'E', 'E', 'E', 'E', 'E', 'E', 'J', 'J', 'J', 'J', 'J', 'J', 'J', 'J', 'J', 'J', 'J', 'J', 'J', 'J', 'J', 'J', 'J', 'J', 'J', 'J', 'J', 'J', 'J', 'J', 'J']\n",
            "Fold 1:\n",
            "  Train: index=[  0   1   2   3   4   5   6   7   8   9  10  11  12  13  14  15  16  17\n",
            "  18  19  20  21  22  23  24  25  26  27  28  29  30  31  32  33  34  35\n",
            "  36  37  38  39  40  41  42  43  44  45  46  47  48  49  50  51  52  53\n",
            "  54  55  56  57  58  59  60  61  62  63  64  65  66  67  68  69  70  71\n",
            "  72  73  74 100 101 102 103 104 105 106 107 108 109 110 111 112 113 114\n",
            " 115 116 117 118 119 120 121 122 123 124 125 126 127 128 129 130 131 132\n",
            " 133 134 135 136 137 138 139 140 141 142 143 144 145 146 147 148 149 150\n",
            " 151 152 153 154 155 156 157 158 159 160 161 162 163 164 165 166 167 168\n",
            " 169 170 171 172 173 174 175 176 177 178 179 180 181 182 183 184 185 186\n",
            " 187 188 189 190 191 192 193 194 195 196 197 198 199 225 226 227 228 229\n",
            " 230 231 232 233 234 235 236 237 238 239 240 241 242 243 244 245 246 247\n",
            " 248 249], group=['A', 'A', 'A', 'A', 'A', 'A', 'A', 'A', 'A', 'A', 'A', 'A', 'A', 'A', 'A', 'A', 'A', 'A', 'A', 'A', 'A', 'A', 'A', 'A', 'A', 'B', 'B', 'B', 'B', 'B', 'B', 'B', 'B', 'B', 'B', 'B', 'B', 'B', 'B', 'B', 'B', 'B', 'B', 'B', 'B', 'B', 'B', 'B', 'B', 'B', 'C', 'C', 'C', 'C', 'C', 'C', 'C', 'C', 'C', 'C', 'C', 'C', 'C', 'C', 'C', 'C', 'C', 'C', 'C', 'C', 'C', 'C', 'C', 'C', 'C', 'E', 'E', 'E', 'E', 'E', 'E', 'E', 'E', 'E', 'E', 'E', 'E', 'E', 'E', 'E', 'E', 'E', 'E', 'E', 'E', 'E', 'E', 'E', 'E', 'E', 'F', 'F', 'F', 'F', 'F', 'F', 'F', 'F', 'F', 'F', 'F', 'F', 'F', 'F', 'F', 'F', 'F', 'F', 'F', 'F', 'F', 'F', 'F', 'F', 'F', 'G', 'G', 'G', 'G', 'G', 'G', 'G', 'G', 'G', 'G', 'G', 'G', 'G', 'G', 'G', 'G', 'G', 'G', 'G', 'G', 'G', 'G', 'G', 'G', 'G', 'H', 'H', 'H', 'H', 'H', 'H', 'H', 'H', 'H', 'H', 'H', 'H', 'H', 'H', 'H', 'H', 'H', 'H', 'H', 'H', 'H', 'H', 'H', 'H', 'H', 'J', 'J', 'J', 'J', 'J', 'J', 'J', 'J', 'J', 'J', 'J', 'J', 'J', 'J', 'J', 'J', 'J', 'J', 'J', 'J', 'J', 'J', 'J', 'J', 'J']\n",
            "  Test:  index=[ 75  76  77  78  79  80  81  82  83  84  85  86  87  88  89  90  91  92\n",
            "  93  94  95  96  97  98  99 200 201 202 203 204 205 206 207 208 209 210\n",
            " 211 212 213 214 215 216 217 218 219 220 221 222 223 224], group=['D', 'D', 'D', 'D', 'D', 'D', 'D', 'D', 'D', 'D', 'D', 'D', 'D', 'D', 'D', 'D', 'D', 'D', 'D', 'D', 'D', 'D', 'D', 'D', 'D', 'I', 'I', 'I', 'I', 'I', 'I', 'I', 'I', 'I', 'I', 'I', 'I', 'I', 'I', 'I', 'I', 'I', 'I', 'I', 'I', 'I', 'I', 'I', 'I', 'I']\n",
            "Fold 2:\n",
            "  Train: index=[  0   1   2   3   4   5   6   7   8   9  10  11  12  13  14  15  16  17\n",
            "  18  19  20  21  22  23  24  25  26  27  28  29  30  31  32  33  34  35\n",
            "  36  37  38  39  40  41  42  43  44  45  46  47  48  49  75  76  77  78\n",
            "  79  80  81  82  83  84  85  86  87  88  89  90  91  92  93  94  95  96\n",
            "  97  98  99 100 101 102 103 104 105 106 107 108 109 110 111 112 113 114\n",
            " 115 116 117 118 119 120 121 122 123 124 125 126 127 128 129 130 131 132\n",
            " 133 134 135 136 137 138 139 140 141 142 143 144 145 146 147 148 149 150\n",
            " 151 152 153 154 155 156 157 158 159 160 161 162 163 164 165 166 167 168\n",
            " 169 170 171 172 173 174 200 201 202 203 204 205 206 207 208 209 210 211\n",
            " 212 213 214 215 216 217 218 219 220 221 222 223 224 225 226 227 228 229\n",
            " 230 231 232 233 234 235 236 237 238 239 240 241 242 243 244 245 246 247\n",
            " 248 249], group=['A', 'A', 'A', 'A', 'A', 'A', 'A', 'A', 'A', 'A', 'A', 'A', 'A', 'A', 'A', 'A', 'A', 'A', 'A', 'A', 'A', 'A', 'A', 'A', 'A', 'B', 'B', 'B', 'B', 'B', 'B', 'B', 'B', 'B', 'B', 'B', 'B', 'B', 'B', 'B', 'B', 'B', 'B', 'B', 'B', 'B', 'B', 'B', 'B', 'B', 'D', 'D', 'D', 'D', 'D', 'D', 'D', 'D', 'D', 'D', 'D', 'D', 'D', 'D', 'D', 'D', 'D', 'D', 'D', 'D', 'D', 'D', 'D', 'D', 'D', 'E', 'E', 'E', 'E', 'E', 'E', 'E', 'E', 'E', 'E', 'E', 'E', 'E', 'E', 'E', 'E', 'E', 'E', 'E', 'E', 'E', 'E', 'E', 'E', 'E', 'F', 'F', 'F', 'F', 'F', 'F', 'F', 'F', 'F', 'F', 'F', 'F', 'F', 'F', 'F', 'F', 'F', 'F', 'F', 'F', 'F', 'F', 'F', 'F', 'F', 'G', 'G', 'G', 'G', 'G', 'G', 'G', 'G', 'G', 'G', 'G', 'G', 'G', 'G', 'G', 'G', 'G', 'G', 'G', 'G', 'G', 'G', 'G', 'G', 'G', 'I', 'I', 'I', 'I', 'I', 'I', 'I', 'I', 'I', 'I', 'I', 'I', 'I', 'I', 'I', 'I', 'I', 'I', 'I', 'I', 'I', 'I', 'I', 'I', 'I', 'J', 'J', 'J', 'J', 'J', 'J', 'J', 'J', 'J', 'J', 'J', 'J', 'J', 'J', 'J', 'J', 'J', 'J', 'J', 'J', 'J', 'J', 'J', 'J', 'J']\n",
            "  Test:  index=[ 50  51  52  53  54  55  56  57  58  59  60  61  62  63  64  65  66  67\n",
            "  68  69  70  71  72  73  74 175 176 177 178 179 180 181 182 183 184 185\n",
            " 186 187 188 189 190 191 192 193 194 195 196 197 198 199], group=['C', 'C', 'C', 'C', 'C', 'C', 'C', 'C', 'C', 'C', 'C', 'C', 'C', 'C', 'C', 'C', 'C', 'C', 'C', 'C', 'C', 'C', 'C', 'C', 'C', 'H', 'H', 'H', 'H', 'H', 'H', 'H', 'H', 'H', 'H', 'H', 'H', 'H', 'H', 'H', 'H', 'H', 'H', 'H', 'H', 'H', 'H', 'H', 'H', 'H']\n",
            "Fold 3:\n",
            "  Train: index=[  0   1   2   3   4   5   6   7   8   9  10  11  12  13  14  15  16  17\n",
            "  18  19  20  21  22  23  24  50  51  52  53  54  55  56  57  58  59  60\n",
            "  61  62  63  64  65  66  67  68  69  70  71  72  73  74  75  76  77  78\n",
            "  79  80  81  82  83  84  85  86  87  88  89  90  91  92  93  94  95  96\n",
            "  97  98  99 100 101 102 103 104 105 106 107 108 109 110 111 112 113 114\n",
            " 115 116 117 118 119 120 121 122 123 124 125 126 127 128 129 130 131 132\n",
            " 133 134 135 136 137 138 139 140 141 142 143 144 145 146 147 148 149 175\n",
            " 176 177 178 179 180 181 182 183 184 185 186 187 188 189 190 191 192 193\n",
            " 194 195 196 197 198 199 200 201 202 203 204 205 206 207 208 209 210 211\n",
            " 212 213 214 215 216 217 218 219 220 221 222 223 224 225 226 227 228 229\n",
            " 230 231 232 233 234 235 236 237 238 239 240 241 242 243 244 245 246 247\n",
            " 248 249], group=['A', 'A', 'A', 'A', 'A', 'A', 'A', 'A', 'A', 'A', 'A', 'A', 'A', 'A', 'A', 'A', 'A', 'A', 'A', 'A', 'A', 'A', 'A', 'A', 'A', 'C', 'C', 'C', 'C', 'C', 'C', 'C', 'C', 'C', 'C', 'C', 'C', 'C', 'C', 'C', 'C', 'C', 'C', 'C', 'C', 'C', 'C', 'C', 'C', 'C', 'D', 'D', 'D', 'D', 'D', 'D', 'D', 'D', 'D', 'D', 'D', 'D', 'D', 'D', 'D', 'D', 'D', 'D', 'D', 'D', 'D', 'D', 'D', 'D', 'D', 'E', 'E', 'E', 'E', 'E', 'E', 'E', 'E', 'E', 'E', 'E', 'E', 'E', 'E', 'E', 'E', 'E', 'E', 'E', 'E', 'E', 'E', 'E', 'E', 'E', 'F', 'F', 'F', 'F', 'F', 'F', 'F', 'F', 'F', 'F', 'F', 'F', 'F', 'F', 'F', 'F', 'F', 'F', 'F', 'F', 'F', 'F', 'F', 'F', 'F', 'H', 'H', 'H', 'H', 'H', 'H', 'H', 'H', 'H', 'H', 'H', 'H', 'H', 'H', 'H', 'H', 'H', 'H', 'H', 'H', 'H', 'H', 'H', 'H', 'H', 'I', 'I', 'I', 'I', 'I', 'I', 'I', 'I', 'I', 'I', 'I', 'I', 'I', 'I', 'I', 'I', 'I', 'I', 'I', 'I', 'I', 'I', 'I', 'I', 'I', 'J', 'J', 'J', 'J', 'J', 'J', 'J', 'J', 'J', 'J', 'J', 'J', 'J', 'J', 'J', 'J', 'J', 'J', 'J', 'J', 'J', 'J', 'J', 'J', 'J']\n",
            "  Test:  index=[ 25  26  27  28  29  30  31  32  33  34  35  36  37  38  39  40  41  42\n",
            "  43  44  45  46  47  48  49 150 151 152 153 154 155 156 157 158 159 160\n",
            " 161 162 163 164 165 166 167 168 169 170 171 172 173 174], group=['B', 'B', 'B', 'B', 'B', 'B', 'B', 'B', 'B', 'B', 'B', 'B', 'B', 'B', 'B', 'B', 'B', 'B', 'B', 'B', 'B', 'B', 'B', 'B', 'B', 'G', 'G', 'G', 'G', 'G', 'G', 'G', 'G', 'G', 'G', 'G', 'G', 'G', 'G', 'G', 'G', 'G', 'G', 'G', 'G', 'G', 'G', 'G', 'G', 'G']\n",
            "Fold 4:\n",
            "  Train: index=[ 25  26  27  28  29  30  31  32  33  34  35  36  37  38  39  40  41  42\n",
            "  43  44  45  46  47  48  49  50  51  52  53  54  55  56  57  58  59  60\n",
            "  61  62  63  64  65  66  67  68  69  70  71  72  73  74  75  76  77  78\n",
            "  79  80  81  82  83  84  85  86  87  88  89  90  91  92  93  94  95  96\n",
            "  97  98  99 100 101 102 103 104 105 106 107 108 109 110 111 112 113 114\n",
            " 115 116 117 118 119 120 121 122 123 124 150 151 152 153 154 155 156 157\n",
            " 158 159 160 161 162 163 164 165 166 167 168 169 170 171 172 173 174 175\n",
            " 176 177 178 179 180 181 182 183 184 185 186 187 188 189 190 191 192 193\n",
            " 194 195 196 197 198 199 200 201 202 203 204 205 206 207 208 209 210 211\n",
            " 212 213 214 215 216 217 218 219 220 221 222 223 224 225 226 227 228 229\n",
            " 230 231 232 233 234 235 236 237 238 239 240 241 242 243 244 245 246 247\n",
            " 248 249], group=['B', 'B', 'B', 'B', 'B', 'B', 'B', 'B', 'B', 'B', 'B', 'B', 'B', 'B', 'B', 'B', 'B', 'B', 'B', 'B', 'B', 'B', 'B', 'B', 'B', 'C', 'C', 'C', 'C', 'C', 'C', 'C', 'C', 'C', 'C', 'C', 'C', 'C', 'C', 'C', 'C', 'C', 'C', 'C', 'C', 'C', 'C', 'C', 'C', 'C', 'D', 'D', 'D', 'D', 'D', 'D', 'D', 'D', 'D', 'D', 'D', 'D', 'D', 'D', 'D', 'D', 'D', 'D', 'D', 'D', 'D', 'D', 'D', 'D', 'D', 'E', 'E', 'E', 'E', 'E', 'E', 'E', 'E', 'E', 'E', 'E', 'E', 'E', 'E', 'E', 'E', 'E', 'E', 'E', 'E', 'E', 'E', 'E', 'E', 'E', 'G', 'G', 'G', 'G', 'G', 'G', 'G', 'G', 'G', 'G', 'G', 'G', 'G', 'G', 'G', 'G', 'G', 'G', 'G', 'G', 'G', 'G', 'G', 'G', 'G', 'H', 'H', 'H', 'H', 'H', 'H', 'H', 'H', 'H', 'H', 'H', 'H', 'H', 'H', 'H', 'H', 'H', 'H', 'H', 'H', 'H', 'H', 'H', 'H', 'H', 'I', 'I', 'I', 'I', 'I', 'I', 'I', 'I', 'I', 'I', 'I', 'I', 'I', 'I', 'I', 'I', 'I', 'I', 'I', 'I', 'I', 'I', 'I', 'I', 'I', 'J', 'J', 'J', 'J', 'J', 'J', 'J', 'J', 'J', 'J', 'J', 'J', 'J', 'J', 'J', 'J', 'J', 'J', 'J', 'J', 'J', 'J', 'J', 'J', 'J']\n",
            "  Test:  index=[  0   1   2   3   4   5   6   7   8   9  10  11  12  13  14  15  16  17\n",
            "  18  19  20  21  22  23  24 125 126 127 128 129 130 131 132 133 134 135\n",
            " 136 137 138 139 140 141 142 143 144 145 146 147 148 149], group=['A', 'A', 'A', 'A', 'A', 'A', 'A', 'A', 'A', 'A', 'A', 'A', 'A', 'A', 'A', 'A', 'A', 'A', 'A', 'A', 'A', 'A', 'A', 'A', 'A', 'F', 'F', 'F', 'F', 'F', 'F', 'F', 'F', 'F', 'F', 'F', 'F', 'F', 'F', 'F', 'F', 'F', 'F', 'F', 'F', 'F', 'F', 'F', 'F', 'F']\n",
            "#####\n",
            "Training Accuracies: [1. 1. 1. 1. 1.]\n",
            "Test Accuracies: [0.62 0.64 0.72 0.68 0.56]\n",
            "\n",
            "Mean Training Accuracy: 1.0\n",
            "Std Training Accuracy: 0.0\n",
            "\n",
            "Mean Test Accuracy: 0.644\n",
            "Std Test Accuracy: 0.05425863986500212\n",
            "\n"
          ]
        }
      ]
    },
    {
      "cell_type": "markdown",
      "source": [
        "# 5. Leave-One-Group-Out CV (LOGOCV)"
      ],
      "metadata": {
        "id": "ncw-W1kesVIl"
      }
    },
    {
      "cell_type": "markdown",
      "source": [
        "It is a variant of the conventional LOOCV, which encapsulates in the validation scheme a peculiar structure of the dataset, i.e., the presence of a hierarchical structure.  \n",
        "Each \"parent node\", called \"group\" in machine lerning terminology, will appear exactly once in the test set."
      ],
      "metadata": {
        "id": "jQHxSU8HsYP0"
      }
    },
    {
      "cell_type": "code",
      "source": [
        "# 5. Leave-One-Group-Out Cross-Validation\n",
        "print(\"5. Leave-One-Group-Out Cross-Validation\")\n",
        "logo = LeaveOneGroupOut()\n",
        "for i, (train_index, test_index) in enumerate(logo.split(X, y, groups)):\n",
        "    print(f\"Fold {i}:\")\n",
        "    print(f\"  Train: index={train_index}, group={list(groups[train_index])}\")\n",
        "    print(f\"  Test:  index={test_index}, group={list(groups[test_index])}\")\n",
        "scores = cross_validate(model, X, y, groups = groups, cv = logo, scoring='accuracy', return_train_score=True)\n",
        "print('#####')\n",
        "print(f\"Training Accuracies: {scores['train_score']}\")\n",
        "print(f\"Test Accuracies: {scores['test_score']}\\n\")\n",
        "print(f\"Mean Training Accuracy: {np.mean(scores['train_score'])}\")\n",
        "print(f\"Std Training Accuracy: {np.std(scores['train_score'])}\\n\")\n",
        "print(f\"Mean Test Accuracy: {np.mean(scores['test_score'])}\")\n",
        "print(f\"Std Test Accuracy: {np.std(scores['test_score'])}\\n\")"
      ],
      "metadata": {
        "colab": {
          "base_uri": "https://localhost:8080/"
        },
        "id": "C4WCz3r_x6nZ",
        "outputId": "460f57ac-b321-4710-c415-45ce88fc89ab"
      },
      "execution_count": 9,
      "outputs": [
        {
          "output_type": "stream",
          "name": "stdout",
          "text": [
            "5. Leave-One-Group-Out Cross-Validation\n",
            "Fold 0:\n",
            "  Train: index=[ 25  26  27  28  29  30  31  32  33  34  35  36  37  38  39  40  41  42\n",
            "  43  44  45  46  47  48  49  50  51  52  53  54  55  56  57  58  59  60\n",
            "  61  62  63  64  65  66  67  68  69  70  71  72  73  74  75  76  77  78\n",
            "  79  80  81  82  83  84  85  86  87  88  89  90  91  92  93  94  95  96\n",
            "  97  98  99 100 101 102 103 104 105 106 107 108 109 110 111 112 113 114\n",
            " 115 116 117 118 119 120 121 122 123 124 125 126 127 128 129 130 131 132\n",
            " 133 134 135 136 137 138 139 140 141 142 143 144 145 146 147 148 149 150\n",
            " 151 152 153 154 155 156 157 158 159 160 161 162 163 164 165 166 167 168\n",
            " 169 170 171 172 173 174 175 176 177 178 179 180 181 182 183 184 185 186\n",
            " 187 188 189 190 191 192 193 194 195 196 197 198 199 200 201 202 203 204\n",
            " 205 206 207 208 209 210 211 212 213 214 215 216 217 218 219 220 221 222\n",
            " 223 224 225 226 227 228 229 230 231 232 233 234 235 236 237 238 239 240\n",
            " 241 242 243 244 245 246 247 248 249], group=['B', 'B', 'B', 'B', 'B', 'B', 'B', 'B', 'B', 'B', 'B', 'B', 'B', 'B', 'B', 'B', 'B', 'B', 'B', 'B', 'B', 'B', 'B', 'B', 'B', 'C', 'C', 'C', 'C', 'C', 'C', 'C', 'C', 'C', 'C', 'C', 'C', 'C', 'C', 'C', 'C', 'C', 'C', 'C', 'C', 'C', 'C', 'C', 'C', 'C', 'D', 'D', 'D', 'D', 'D', 'D', 'D', 'D', 'D', 'D', 'D', 'D', 'D', 'D', 'D', 'D', 'D', 'D', 'D', 'D', 'D', 'D', 'D', 'D', 'D', 'E', 'E', 'E', 'E', 'E', 'E', 'E', 'E', 'E', 'E', 'E', 'E', 'E', 'E', 'E', 'E', 'E', 'E', 'E', 'E', 'E', 'E', 'E', 'E', 'E', 'F', 'F', 'F', 'F', 'F', 'F', 'F', 'F', 'F', 'F', 'F', 'F', 'F', 'F', 'F', 'F', 'F', 'F', 'F', 'F', 'F', 'F', 'F', 'F', 'F', 'G', 'G', 'G', 'G', 'G', 'G', 'G', 'G', 'G', 'G', 'G', 'G', 'G', 'G', 'G', 'G', 'G', 'G', 'G', 'G', 'G', 'G', 'G', 'G', 'G', 'H', 'H', 'H', 'H', 'H', 'H', 'H', 'H', 'H', 'H', 'H', 'H', 'H', 'H', 'H', 'H', 'H', 'H', 'H', 'H', 'H', 'H', 'H', 'H', 'H', 'I', 'I', 'I', 'I', 'I', 'I', 'I', 'I', 'I', 'I', 'I', 'I', 'I', 'I', 'I', 'I', 'I', 'I', 'I', 'I', 'I', 'I', 'I', 'I', 'I', 'J', 'J', 'J', 'J', 'J', 'J', 'J', 'J', 'J', 'J', 'J', 'J', 'J', 'J', 'J', 'J', 'J', 'J', 'J', 'J', 'J', 'J', 'J', 'J', 'J']\n",
            "  Test:  index=[ 0  1  2  3  4  5  6  7  8  9 10 11 12 13 14 15 16 17 18 19 20 21 22 23\n",
            " 24], group=['A', 'A', 'A', 'A', 'A', 'A', 'A', 'A', 'A', 'A', 'A', 'A', 'A', 'A', 'A', 'A', 'A', 'A', 'A', 'A', 'A', 'A', 'A', 'A', 'A']\n",
            "Fold 1:\n",
            "  Train: index=[  0   1   2   3   4   5   6   7   8   9  10  11  12  13  14  15  16  17\n",
            "  18  19  20  21  22  23  24  50  51  52  53  54  55  56  57  58  59  60\n",
            "  61  62  63  64  65  66  67  68  69  70  71  72  73  74  75  76  77  78\n",
            "  79  80  81  82  83  84  85  86  87  88  89  90  91  92  93  94  95  96\n",
            "  97  98  99 100 101 102 103 104 105 106 107 108 109 110 111 112 113 114\n",
            " 115 116 117 118 119 120 121 122 123 124 125 126 127 128 129 130 131 132\n",
            " 133 134 135 136 137 138 139 140 141 142 143 144 145 146 147 148 149 150\n",
            " 151 152 153 154 155 156 157 158 159 160 161 162 163 164 165 166 167 168\n",
            " 169 170 171 172 173 174 175 176 177 178 179 180 181 182 183 184 185 186\n",
            " 187 188 189 190 191 192 193 194 195 196 197 198 199 200 201 202 203 204\n",
            " 205 206 207 208 209 210 211 212 213 214 215 216 217 218 219 220 221 222\n",
            " 223 224 225 226 227 228 229 230 231 232 233 234 235 236 237 238 239 240\n",
            " 241 242 243 244 245 246 247 248 249], group=['A', 'A', 'A', 'A', 'A', 'A', 'A', 'A', 'A', 'A', 'A', 'A', 'A', 'A', 'A', 'A', 'A', 'A', 'A', 'A', 'A', 'A', 'A', 'A', 'A', 'C', 'C', 'C', 'C', 'C', 'C', 'C', 'C', 'C', 'C', 'C', 'C', 'C', 'C', 'C', 'C', 'C', 'C', 'C', 'C', 'C', 'C', 'C', 'C', 'C', 'D', 'D', 'D', 'D', 'D', 'D', 'D', 'D', 'D', 'D', 'D', 'D', 'D', 'D', 'D', 'D', 'D', 'D', 'D', 'D', 'D', 'D', 'D', 'D', 'D', 'E', 'E', 'E', 'E', 'E', 'E', 'E', 'E', 'E', 'E', 'E', 'E', 'E', 'E', 'E', 'E', 'E', 'E', 'E', 'E', 'E', 'E', 'E', 'E', 'E', 'F', 'F', 'F', 'F', 'F', 'F', 'F', 'F', 'F', 'F', 'F', 'F', 'F', 'F', 'F', 'F', 'F', 'F', 'F', 'F', 'F', 'F', 'F', 'F', 'F', 'G', 'G', 'G', 'G', 'G', 'G', 'G', 'G', 'G', 'G', 'G', 'G', 'G', 'G', 'G', 'G', 'G', 'G', 'G', 'G', 'G', 'G', 'G', 'G', 'G', 'H', 'H', 'H', 'H', 'H', 'H', 'H', 'H', 'H', 'H', 'H', 'H', 'H', 'H', 'H', 'H', 'H', 'H', 'H', 'H', 'H', 'H', 'H', 'H', 'H', 'I', 'I', 'I', 'I', 'I', 'I', 'I', 'I', 'I', 'I', 'I', 'I', 'I', 'I', 'I', 'I', 'I', 'I', 'I', 'I', 'I', 'I', 'I', 'I', 'I', 'J', 'J', 'J', 'J', 'J', 'J', 'J', 'J', 'J', 'J', 'J', 'J', 'J', 'J', 'J', 'J', 'J', 'J', 'J', 'J', 'J', 'J', 'J', 'J', 'J']\n",
            "  Test:  index=[25 26 27 28 29 30 31 32 33 34 35 36 37 38 39 40 41 42 43 44 45 46 47 48\n",
            " 49], group=['B', 'B', 'B', 'B', 'B', 'B', 'B', 'B', 'B', 'B', 'B', 'B', 'B', 'B', 'B', 'B', 'B', 'B', 'B', 'B', 'B', 'B', 'B', 'B', 'B']\n",
            "Fold 2:\n",
            "  Train: index=[  0   1   2   3   4   5   6   7   8   9  10  11  12  13  14  15  16  17\n",
            "  18  19  20  21  22  23  24  25  26  27  28  29  30  31  32  33  34  35\n",
            "  36  37  38  39  40  41  42  43  44  45  46  47  48  49  75  76  77  78\n",
            "  79  80  81  82  83  84  85  86  87  88  89  90  91  92  93  94  95  96\n",
            "  97  98  99 100 101 102 103 104 105 106 107 108 109 110 111 112 113 114\n",
            " 115 116 117 118 119 120 121 122 123 124 125 126 127 128 129 130 131 132\n",
            " 133 134 135 136 137 138 139 140 141 142 143 144 145 146 147 148 149 150\n",
            " 151 152 153 154 155 156 157 158 159 160 161 162 163 164 165 166 167 168\n",
            " 169 170 171 172 173 174 175 176 177 178 179 180 181 182 183 184 185 186\n",
            " 187 188 189 190 191 192 193 194 195 196 197 198 199 200 201 202 203 204\n",
            " 205 206 207 208 209 210 211 212 213 214 215 216 217 218 219 220 221 222\n",
            " 223 224 225 226 227 228 229 230 231 232 233 234 235 236 237 238 239 240\n",
            " 241 242 243 244 245 246 247 248 249], group=['A', 'A', 'A', 'A', 'A', 'A', 'A', 'A', 'A', 'A', 'A', 'A', 'A', 'A', 'A', 'A', 'A', 'A', 'A', 'A', 'A', 'A', 'A', 'A', 'A', 'B', 'B', 'B', 'B', 'B', 'B', 'B', 'B', 'B', 'B', 'B', 'B', 'B', 'B', 'B', 'B', 'B', 'B', 'B', 'B', 'B', 'B', 'B', 'B', 'B', 'D', 'D', 'D', 'D', 'D', 'D', 'D', 'D', 'D', 'D', 'D', 'D', 'D', 'D', 'D', 'D', 'D', 'D', 'D', 'D', 'D', 'D', 'D', 'D', 'D', 'E', 'E', 'E', 'E', 'E', 'E', 'E', 'E', 'E', 'E', 'E', 'E', 'E', 'E', 'E', 'E', 'E', 'E', 'E', 'E', 'E', 'E', 'E', 'E', 'E', 'F', 'F', 'F', 'F', 'F', 'F', 'F', 'F', 'F', 'F', 'F', 'F', 'F', 'F', 'F', 'F', 'F', 'F', 'F', 'F', 'F', 'F', 'F', 'F', 'F', 'G', 'G', 'G', 'G', 'G', 'G', 'G', 'G', 'G', 'G', 'G', 'G', 'G', 'G', 'G', 'G', 'G', 'G', 'G', 'G', 'G', 'G', 'G', 'G', 'G', 'H', 'H', 'H', 'H', 'H', 'H', 'H', 'H', 'H', 'H', 'H', 'H', 'H', 'H', 'H', 'H', 'H', 'H', 'H', 'H', 'H', 'H', 'H', 'H', 'H', 'I', 'I', 'I', 'I', 'I', 'I', 'I', 'I', 'I', 'I', 'I', 'I', 'I', 'I', 'I', 'I', 'I', 'I', 'I', 'I', 'I', 'I', 'I', 'I', 'I', 'J', 'J', 'J', 'J', 'J', 'J', 'J', 'J', 'J', 'J', 'J', 'J', 'J', 'J', 'J', 'J', 'J', 'J', 'J', 'J', 'J', 'J', 'J', 'J', 'J']\n",
            "  Test:  index=[50 51 52 53 54 55 56 57 58 59 60 61 62 63 64 65 66 67 68 69 70 71 72 73\n",
            " 74], group=['C', 'C', 'C', 'C', 'C', 'C', 'C', 'C', 'C', 'C', 'C', 'C', 'C', 'C', 'C', 'C', 'C', 'C', 'C', 'C', 'C', 'C', 'C', 'C', 'C']\n",
            "Fold 3:\n",
            "  Train: index=[  0   1   2   3   4   5   6   7   8   9  10  11  12  13  14  15  16  17\n",
            "  18  19  20  21  22  23  24  25  26  27  28  29  30  31  32  33  34  35\n",
            "  36  37  38  39  40  41  42  43  44  45  46  47  48  49  50  51  52  53\n",
            "  54  55  56  57  58  59  60  61  62  63  64  65  66  67  68  69  70  71\n",
            "  72  73  74 100 101 102 103 104 105 106 107 108 109 110 111 112 113 114\n",
            " 115 116 117 118 119 120 121 122 123 124 125 126 127 128 129 130 131 132\n",
            " 133 134 135 136 137 138 139 140 141 142 143 144 145 146 147 148 149 150\n",
            " 151 152 153 154 155 156 157 158 159 160 161 162 163 164 165 166 167 168\n",
            " 169 170 171 172 173 174 175 176 177 178 179 180 181 182 183 184 185 186\n",
            " 187 188 189 190 191 192 193 194 195 196 197 198 199 200 201 202 203 204\n",
            " 205 206 207 208 209 210 211 212 213 214 215 216 217 218 219 220 221 222\n",
            " 223 224 225 226 227 228 229 230 231 232 233 234 235 236 237 238 239 240\n",
            " 241 242 243 244 245 246 247 248 249], group=['A', 'A', 'A', 'A', 'A', 'A', 'A', 'A', 'A', 'A', 'A', 'A', 'A', 'A', 'A', 'A', 'A', 'A', 'A', 'A', 'A', 'A', 'A', 'A', 'A', 'B', 'B', 'B', 'B', 'B', 'B', 'B', 'B', 'B', 'B', 'B', 'B', 'B', 'B', 'B', 'B', 'B', 'B', 'B', 'B', 'B', 'B', 'B', 'B', 'B', 'C', 'C', 'C', 'C', 'C', 'C', 'C', 'C', 'C', 'C', 'C', 'C', 'C', 'C', 'C', 'C', 'C', 'C', 'C', 'C', 'C', 'C', 'C', 'C', 'C', 'E', 'E', 'E', 'E', 'E', 'E', 'E', 'E', 'E', 'E', 'E', 'E', 'E', 'E', 'E', 'E', 'E', 'E', 'E', 'E', 'E', 'E', 'E', 'E', 'E', 'F', 'F', 'F', 'F', 'F', 'F', 'F', 'F', 'F', 'F', 'F', 'F', 'F', 'F', 'F', 'F', 'F', 'F', 'F', 'F', 'F', 'F', 'F', 'F', 'F', 'G', 'G', 'G', 'G', 'G', 'G', 'G', 'G', 'G', 'G', 'G', 'G', 'G', 'G', 'G', 'G', 'G', 'G', 'G', 'G', 'G', 'G', 'G', 'G', 'G', 'H', 'H', 'H', 'H', 'H', 'H', 'H', 'H', 'H', 'H', 'H', 'H', 'H', 'H', 'H', 'H', 'H', 'H', 'H', 'H', 'H', 'H', 'H', 'H', 'H', 'I', 'I', 'I', 'I', 'I', 'I', 'I', 'I', 'I', 'I', 'I', 'I', 'I', 'I', 'I', 'I', 'I', 'I', 'I', 'I', 'I', 'I', 'I', 'I', 'I', 'J', 'J', 'J', 'J', 'J', 'J', 'J', 'J', 'J', 'J', 'J', 'J', 'J', 'J', 'J', 'J', 'J', 'J', 'J', 'J', 'J', 'J', 'J', 'J', 'J']\n",
            "  Test:  index=[75 76 77 78 79 80 81 82 83 84 85 86 87 88 89 90 91 92 93 94 95 96 97 98\n",
            " 99], group=['D', 'D', 'D', 'D', 'D', 'D', 'D', 'D', 'D', 'D', 'D', 'D', 'D', 'D', 'D', 'D', 'D', 'D', 'D', 'D', 'D', 'D', 'D', 'D', 'D']\n",
            "Fold 4:\n",
            "  Train: index=[  0   1   2   3   4   5   6   7   8   9  10  11  12  13  14  15  16  17\n",
            "  18  19  20  21  22  23  24  25  26  27  28  29  30  31  32  33  34  35\n",
            "  36  37  38  39  40  41  42  43  44  45  46  47  48  49  50  51  52  53\n",
            "  54  55  56  57  58  59  60  61  62  63  64  65  66  67  68  69  70  71\n",
            "  72  73  74  75  76  77  78  79  80  81  82  83  84  85  86  87  88  89\n",
            "  90  91  92  93  94  95  96  97  98  99 125 126 127 128 129 130 131 132\n",
            " 133 134 135 136 137 138 139 140 141 142 143 144 145 146 147 148 149 150\n",
            " 151 152 153 154 155 156 157 158 159 160 161 162 163 164 165 166 167 168\n",
            " 169 170 171 172 173 174 175 176 177 178 179 180 181 182 183 184 185 186\n",
            " 187 188 189 190 191 192 193 194 195 196 197 198 199 200 201 202 203 204\n",
            " 205 206 207 208 209 210 211 212 213 214 215 216 217 218 219 220 221 222\n",
            " 223 224 225 226 227 228 229 230 231 232 233 234 235 236 237 238 239 240\n",
            " 241 242 243 244 245 246 247 248 249], group=['A', 'A', 'A', 'A', 'A', 'A', 'A', 'A', 'A', 'A', 'A', 'A', 'A', 'A', 'A', 'A', 'A', 'A', 'A', 'A', 'A', 'A', 'A', 'A', 'A', 'B', 'B', 'B', 'B', 'B', 'B', 'B', 'B', 'B', 'B', 'B', 'B', 'B', 'B', 'B', 'B', 'B', 'B', 'B', 'B', 'B', 'B', 'B', 'B', 'B', 'C', 'C', 'C', 'C', 'C', 'C', 'C', 'C', 'C', 'C', 'C', 'C', 'C', 'C', 'C', 'C', 'C', 'C', 'C', 'C', 'C', 'C', 'C', 'C', 'C', 'D', 'D', 'D', 'D', 'D', 'D', 'D', 'D', 'D', 'D', 'D', 'D', 'D', 'D', 'D', 'D', 'D', 'D', 'D', 'D', 'D', 'D', 'D', 'D', 'D', 'F', 'F', 'F', 'F', 'F', 'F', 'F', 'F', 'F', 'F', 'F', 'F', 'F', 'F', 'F', 'F', 'F', 'F', 'F', 'F', 'F', 'F', 'F', 'F', 'F', 'G', 'G', 'G', 'G', 'G', 'G', 'G', 'G', 'G', 'G', 'G', 'G', 'G', 'G', 'G', 'G', 'G', 'G', 'G', 'G', 'G', 'G', 'G', 'G', 'G', 'H', 'H', 'H', 'H', 'H', 'H', 'H', 'H', 'H', 'H', 'H', 'H', 'H', 'H', 'H', 'H', 'H', 'H', 'H', 'H', 'H', 'H', 'H', 'H', 'H', 'I', 'I', 'I', 'I', 'I', 'I', 'I', 'I', 'I', 'I', 'I', 'I', 'I', 'I', 'I', 'I', 'I', 'I', 'I', 'I', 'I', 'I', 'I', 'I', 'I', 'J', 'J', 'J', 'J', 'J', 'J', 'J', 'J', 'J', 'J', 'J', 'J', 'J', 'J', 'J', 'J', 'J', 'J', 'J', 'J', 'J', 'J', 'J', 'J', 'J']\n",
            "  Test:  index=[100 101 102 103 104 105 106 107 108 109 110 111 112 113 114 115 116 117\n",
            " 118 119 120 121 122 123 124], group=['E', 'E', 'E', 'E', 'E', 'E', 'E', 'E', 'E', 'E', 'E', 'E', 'E', 'E', 'E', 'E', 'E', 'E', 'E', 'E', 'E', 'E', 'E', 'E', 'E']\n",
            "Fold 5:\n",
            "  Train: index=[  0   1   2   3   4   5   6   7   8   9  10  11  12  13  14  15  16  17\n",
            "  18  19  20  21  22  23  24  25  26  27  28  29  30  31  32  33  34  35\n",
            "  36  37  38  39  40  41  42  43  44  45  46  47  48  49  50  51  52  53\n",
            "  54  55  56  57  58  59  60  61  62  63  64  65  66  67  68  69  70  71\n",
            "  72  73  74  75  76  77  78  79  80  81  82  83  84  85  86  87  88  89\n",
            "  90  91  92  93  94  95  96  97  98  99 100 101 102 103 104 105 106 107\n",
            " 108 109 110 111 112 113 114 115 116 117 118 119 120 121 122 123 124 150\n",
            " 151 152 153 154 155 156 157 158 159 160 161 162 163 164 165 166 167 168\n",
            " 169 170 171 172 173 174 175 176 177 178 179 180 181 182 183 184 185 186\n",
            " 187 188 189 190 191 192 193 194 195 196 197 198 199 200 201 202 203 204\n",
            " 205 206 207 208 209 210 211 212 213 214 215 216 217 218 219 220 221 222\n",
            " 223 224 225 226 227 228 229 230 231 232 233 234 235 236 237 238 239 240\n",
            " 241 242 243 244 245 246 247 248 249], group=['A', 'A', 'A', 'A', 'A', 'A', 'A', 'A', 'A', 'A', 'A', 'A', 'A', 'A', 'A', 'A', 'A', 'A', 'A', 'A', 'A', 'A', 'A', 'A', 'A', 'B', 'B', 'B', 'B', 'B', 'B', 'B', 'B', 'B', 'B', 'B', 'B', 'B', 'B', 'B', 'B', 'B', 'B', 'B', 'B', 'B', 'B', 'B', 'B', 'B', 'C', 'C', 'C', 'C', 'C', 'C', 'C', 'C', 'C', 'C', 'C', 'C', 'C', 'C', 'C', 'C', 'C', 'C', 'C', 'C', 'C', 'C', 'C', 'C', 'C', 'D', 'D', 'D', 'D', 'D', 'D', 'D', 'D', 'D', 'D', 'D', 'D', 'D', 'D', 'D', 'D', 'D', 'D', 'D', 'D', 'D', 'D', 'D', 'D', 'D', 'E', 'E', 'E', 'E', 'E', 'E', 'E', 'E', 'E', 'E', 'E', 'E', 'E', 'E', 'E', 'E', 'E', 'E', 'E', 'E', 'E', 'E', 'E', 'E', 'E', 'G', 'G', 'G', 'G', 'G', 'G', 'G', 'G', 'G', 'G', 'G', 'G', 'G', 'G', 'G', 'G', 'G', 'G', 'G', 'G', 'G', 'G', 'G', 'G', 'G', 'H', 'H', 'H', 'H', 'H', 'H', 'H', 'H', 'H', 'H', 'H', 'H', 'H', 'H', 'H', 'H', 'H', 'H', 'H', 'H', 'H', 'H', 'H', 'H', 'H', 'I', 'I', 'I', 'I', 'I', 'I', 'I', 'I', 'I', 'I', 'I', 'I', 'I', 'I', 'I', 'I', 'I', 'I', 'I', 'I', 'I', 'I', 'I', 'I', 'I', 'J', 'J', 'J', 'J', 'J', 'J', 'J', 'J', 'J', 'J', 'J', 'J', 'J', 'J', 'J', 'J', 'J', 'J', 'J', 'J', 'J', 'J', 'J', 'J', 'J']\n",
            "  Test:  index=[125 126 127 128 129 130 131 132 133 134 135 136 137 138 139 140 141 142\n",
            " 143 144 145 146 147 148 149], group=['F', 'F', 'F', 'F', 'F', 'F', 'F', 'F', 'F', 'F', 'F', 'F', 'F', 'F', 'F', 'F', 'F', 'F', 'F', 'F', 'F', 'F', 'F', 'F', 'F']\n",
            "Fold 6:\n",
            "  Train: index=[  0   1   2   3   4   5   6   7   8   9  10  11  12  13  14  15  16  17\n",
            "  18  19  20  21  22  23  24  25  26  27  28  29  30  31  32  33  34  35\n",
            "  36  37  38  39  40  41  42  43  44  45  46  47  48  49  50  51  52  53\n",
            "  54  55  56  57  58  59  60  61  62  63  64  65  66  67  68  69  70  71\n",
            "  72  73  74  75  76  77  78  79  80  81  82  83  84  85  86  87  88  89\n",
            "  90  91  92  93  94  95  96  97  98  99 100 101 102 103 104 105 106 107\n",
            " 108 109 110 111 112 113 114 115 116 117 118 119 120 121 122 123 124 125\n",
            " 126 127 128 129 130 131 132 133 134 135 136 137 138 139 140 141 142 143\n",
            " 144 145 146 147 148 149 175 176 177 178 179 180 181 182 183 184 185 186\n",
            " 187 188 189 190 191 192 193 194 195 196 197 198 199 200 201 202 203 204\n",
            " 205 206 207 208 209 210 211 212 213 214 215 216 217 218 219 220 221 222\n",
            " 223 224 225 226 227 228 229 230 231 232 233 234 235 236 237 238 239 240\n",
            " 241 242 243 244 245 246 247 248 249], group=['A', 'A', 'A', 'A', 'A', 'A', 'A', 'A', 'A', 'A', 'A', 'A', 'A', 'A', 'A', 'A', 'A', 'A', 'A', 'A', 'A', 'A', 'A', 'A', 'A', 'B', 'B', 'B', 'B', 'B', 'B', 'B', 'B', 'B', 'B', 'B', 'B', 'B', 'B', 'B', 'B', 'B', 'B', 'B', 'B', 'B', 'B', 'B', 'B', 'B', 'C', 'C', 'C', 'C', 'C', 'C', 'C', 'C', 'C', 'C', 'C', 'C', 'C', 'C', 'C', 'C', 'C', 'C', 'C', 'C', 'C', 'C', 'C', 'C', 'C', 'D', 'D', 'D', 'D', 'D', 'D', 'D', 'D', 'D', 'D', 'D', 'D', 'D', 'D', 'D', 'D', 'D', 'D', 'D', 'D', 'D', 'D', 'D', 'D', 'D', 'E', 'E', 'E', 'E', 'E', 'E', 'E', 'E', 'E', 'E', 'E', 'E', 'E', 'E', 'E', 'E', 'E', 'E', 'E', 'E', 'E', 'E', 'E', 'E', 'E', 'F', 'F', 'F', 'F', 'F', 'F', 'F', 'F', 'F', 'F', 'F', 'F', 'F', 'F', 'F', 'F', 'F', 'F', 'F', 'F', 'F', 'F', 'F', 'F', 'F', 'H', 'H', 'H', 'H', 'H', 'H', 'H', 'H', 'H', 'H', 'H', 'H', 'H', 'H', 'H', 'H', 'H', 'H', 'H', 'H', 'H', 'H', 'H', 'H', 'H', 'I', 'I', 'I', 'I', 'I', 'I', 'I', 'I', 'I', 'I', 'I', 'I', 'I', 'I', 'I', 'I', 'I', 'I', 'I', 'I', 'I', 'I', 'I', 'I', 'I', 'J', 'J', 'J', 'J', 'J', 'J', 'J', 'J', 'J', 'J', 'J', 'J', 'J', 'J', 'J', 'J', 'J', 'J', 'J', 'J', 'J', 'J', 'J', 'J', 'J']\n",
            "  Test:  index=[150 151 152 153 154 155 156 157 158 159 160 161 162 163 164 165 166 167\n",
            " 168 169 170 171 172 173 174], group=['G', 'G', 'G', 'G', 'G', 'G', 'G', 'G', 'G', 'G', 'G', 'G', 'G', 'G', 'G', 'G', 'G', 'G', 'G', 'G', 'G', 'G', 'G', 'G', 'G']\n",
            "Fold 7:\n",
            "  Train: index=[  0   1   2   3   4   5   6   7   8   9  10  11  12  13  14  15  16  17\n",
            "  18  19  20  21  22  23  24  25  26  27  28  29  30  31  32  33  34  35\n",
            "  36  37  38  39  40  41  42  43  44  45  46  47  48  49  50  51  52  53\n",
            "  54  55  56  57  58  59  60  61  62  63  64  65  66  67  68  69  70  71\n",
            "  72  73  74  75  76  77  78  79  80  81  82  83  84  85  86  87  88  89\n",
            "  90  91  92  93  94  95  96  97  98  99 100 101 102 103 104 105 106 107\n",
            " 108 109 110 111 112 113 114 115 116 117 118 119 120 121 122 123 124 125\n",
            " 126 127 128 129 130 131 132 133 134 135 136 137 138 139 140 141 142 143\n",
            " 144 145 146 147 148 149 150 151 152 153 154 155 156 157 158 159 160 161\n",
            " 162 163 164 165 166 167 168 169 170 171 172 173 174 200 201 202 203 204\n",
            " 205 206 207 208 209 210 211 212 213 214 215 216 217 218 219 220 221 222\n",
            " 223 224 225 226 227 228 229 230 231 232 233 234 235 236 237 238 239 240\n",
            " 241 242 243 244 245 246 247 248 249], group=['A', 'A', 'A', 'A', 'A', 'A', 'A', 'A', 'A', 'A', 'A', 'A', 'A', 'A', 'A', 'A', 'A', 'A', 'A', 'A', 'A', 'A', 'A', 'A', 'A', 'B', 'B', 'B', 'B', 'B', 'B', 'B', 'B', 'B', 'B', 'B', 'B', 'B', 'B', 'B', 'B', 'B', 'B', 'B', 'B', 'B', 'B', 'B', 'B', 'B', 'C', 'C', 'C', 'C', 'C', 'C', 'C', 'C', 'C', 'C', 'C', 'C', 'C', 'C', 'C', 'C', 'C', 'C', 'C', 'C', 'C', 'C', 'C', 'C', 'C', 'D', 'D', 'D', 'D', 'D', 'D', 'D', 'D', 'D', 'D', 'D', 'D', 'D', 'D', 'D', 'D', 'D', 'D', 'D', 'D', 'D', 'D', 'D', 'D', 'D', 'E', 'E', 'E', 'E', 'E', 'E', 'E', 'E', 'E', 'E', 'E', 'E', 'E', 'E', 'E', 'E', 'E', 'E', 'E', 'E', 'E', 'E', 'E', 'E', 'E', 'F', 'F', 'F', 'F', 'F', 'F', 'F', 'F', 'F', 'F', 'F', 'F', 'F', 'F', 'F', 'F', 'F', 'F', 'F', 'F', 'F', 'F', 'F', 'F', 'F', 'G', 'G', 'G', 'G', 'G', 'G', 'G', 'G', 'G', 'G', 'G', 'G', 'G', 'G', 'G', 'G', 'G', 'G', 'G', 'G', 'G', 'G', 'G', 'G', 'G', 'I', 'I', 'I', 'I', 'I', 'I', 'I', 'I', 'I', 'I', 'I', 'I', 'I', 'I', 'I', 'I', 'I', 'I', 'I', 'I', 'I', 'I', 'I', 'I', 'I', 'J', 'J', 'J', 'J', 'J', 'J', 'J', 'J', 'J', 'J', 'J', 'J', 'J', 'J', 'J', 'J', 'J', 'J', 'J', 'J', 'J', 'J', 'J', 'J', 'J']\n",
            "  Test:  index=[175 176 177 178 179 180 181 182 183 184 185 186 187 188 189 190 191 192\n",
            " 193 194 195 196 197 198 199], group=['H', 'H', 'H', 'H', 'H', 'H', 'H', 'H', 'H', 'H', 'H', 'H', 'H', 'H', 'H', 'H', 'H', 'H', 'H', 'H', 'H', 'H', 'H', 'H', 'H']\n",
            "Fold 8:\n",
            "  Train: index=[  0   1   2   3   4   5   6   7   8   9  10  11  12  13  14  15  16  17\n",
            "  18  19  20  21  22  23  24  25  26  27  28  29  30  31  32  33  34  35\n",
            "  36  37  38  39  40  41  42  43  44  45  46  47  48  49  50  51  52  53\n",
            "  54  55  56  57  58  59  60  61  62  63  64  65  66  67  68  69  70  71\n",
            "  72  73  74  75  76  77  78  79  80  81  82  83  84  85  86  87  88  89\n",
            "  90  91  92  93  94  95  96  97  98  99 100 101 102 103 104 105 106 107\n",
            " 108 109 110 111 112 113 114 115 116 117 118 119 120 121 122 123 124 125\n",
            " 126 127 128 129 130 131 132 133 134 135 136 137 138 139 140 141 142 143\n",
            " 144 145 146 147 148 149 150 151 152 153 154 155 156 157 158 159 160 161\n",
            " 162 163 164 165 166 167 168 169 170 171 172 173 174 175 176 177 178 179\n",
            " 180 181 182 183 184 185 186 187 188 189 190 191 192 193 194 195 196 197\n",
            " 198 199 225 226 227 228 229 230 231 232 233 234 235 236 237 238 239 240\n",
            " 241 242 243 244 245 246 247 248 249], group=['A', 'A', 'A', 'A', 'A', 'A', 'A', 'A', 'A', 'A', 'A', 'A', 'A', 'A', 'A', 'A', 'A', 'A', 'A', 'A', 'A', 'A', 'A', 'A', 'A', 'B', 'B', 'B', 'B', 'B', 'B', 'B', 'B', 'B', 'B', 'B', 'B', 'B', 'B', 'B', 'B', 'B', 'B', 'B', 'B', 'B', 'B', 'B', 'B', 'B', 'C', 'C', 'C', 'C', 'C', 'C', 'C', 'C', 'C', 'C', 'C', 'C', 'C', 'C', 'C', 'C', 'C', 'C', 'C', 'C', 'C', 'C', 'C', 'C', 'C', 'D', 'D', 'D', 'D', 'D', 'D', 'D', 'D', 'D', 'D', 'D', 'D', 'D', 'D', 'D', 'D', 'D', 'D', 'D', 'D', 'D', 'D', 'D', 'D', 'D', 'E', 'E', 'E', 'E', 'E', 'E', 'E', 'E', 'E', 'E', 'E', 'E', 'E', 'E', 'E', 'E', 'E', 'E', 'E', 'E', 'E', 'E', 'E', 'E', 'E', 'F', 'F', 'F', 'F', 'F', 'F', 'F', 'F', 'F', 'F', 'F', 'F', 'F', 'F', 'F', 'F', 'F', 'F', 'F', 'F', 'F', 'F', 'F', 'F', 'F', 'G', 'G', 'G', 'G', 'G', 'G', 'G', 'G', 'G', 'G', 'G', 'G', 'G', 'G', 'G', 'G', 'G', 'G', 'G', 'G', 'G', 'G', 'G', 'G', 'G', 'H', 'H', 'H', 'H', 'H', 'H', 'H', 'H', 'H', 'H', 'H', 'H', 'H', 'H', 'H', 'H', 'H', 'H', 'H', 'H', 'H', 'H', 'H', 'H', 'H', 'J', 'J', 'J', 'J', 'J', 'J', 'J', 'J', 'J', 'J', 'J', 'J', 'J', 'J', 'J', 'J', 'J', 'J', 'J', 'J', 'J', 'J', 'J', 'J', 'J']\n",
            "  Test:  index=[200 201 202 203 204 205 206 207 208 209 210 211 212 213 214 215 216 217\n",
            " 218 219 220 221 222 223 224], group=['I', 'I', 'I', 'I', 'I', 'I', 'I', 'I', 'I', 'I', 'I', 'I', 'I', 'I', 'I', 'I', 'I', 'I', 'I', 'I', 'I', 'I', 'I', 'I', 'I']\n",
            "Fold 9:\n",
            "  Train: index=[  0   1   2   3   4   5   6   7   8   9  10  11  12  13  14  15  16  17\n",
            "  18  19  20  21  22  23  24  25  26  27  28  29  30  31  32  33  34  35\n",
            "  36  37  38  39  40  41  42  43  44  45  46  47  48  49  50  51  52  53\n",
            "  54  55  56  57  58  59  60  61  62  63  64  65  66  67  68  69  70  71\n",
            "  72  73  74  75  76  77  78  79  80  81  82  83  84  85  86  87  88  89\n",
            "  90  91  92  93  94  95  96  97  98  99 100 101 102 103 104 105 106 107\n",
            " 108 109 110 111 112 113 114 115 116 117 118 119 120 121 122 123 124 125\n",
            " 126 127 128 129 130 131 132 133 134 135 136 137 138 139 140 141 142 143\n",
            " 144 145 146 147 148 149 150 151 152 153 154 155 156 157 158 159 160 161\n",
            " 162 163 164 165 166 167 168 169 170 171 172 173 174 175 176 177 178 179\n",
            " 180 181 182 183 184 185 186 187 188 189 190 191 192 193 194 195 196 197\n",
            " 198 199 200 201 202 203 204 205 206 207 208 209 210 211 212 213 214 215\n",
            " 216 217 218 219 220 221 222 223 224], group=['A', 'A', 'A', 'A', 'A', 'A', 'A', 'A', 'A', 'A', 'A', 'A', 'A', 'A', 'A', 'A', 'A', 'A', 'A', 'A', 'A', 'A', 'A', 'A', 'A', 'B', 'B', 'B', 'B', 'B', 'B', 'B', 'B', 'B', 'B', 'B', 'B', 'B', 'B', 'B', 'B', 'B', 'B', 'B', 'B', 'B', 'B', 'B', 'B', 'B', 'C', 'C', 'C', 'C', 'C', 'C', 'C', 'C', 'C', 'C', 'C', 'C', 'C', 'C', 'C', 'C', 'C', 'C', 'C', 'C', 'C', 'C', 'C', 'C', 'C', 'D', 'D', 'D', 'D', 'D', 'D', 'D', 'D', 'D', 'D', 'D', 'D', 'D', 'D', 'D', 'D', 'D', 'D', 'D', 'D', 'D', 'D', 'D', 'D', 'D', 'E', 'E', 'E', 'E', 'E', 'E', 'E', 'E', 'E', 'E', 'E', 'E', 'E', 'E', 'E', 'E', 'E', 'E', 'E', 'E', 'E', 'E', 'E', 'E', 'E', 'F', 'F', 'F', 'F', 'F', 'F', 'F', 'F', 'F', 'F', 'F', 'F', 'F', 'F', 'F', 'F', 'F', 'F', 'F', 'F', 'F', 'F', 'F', 'F', 'F', 'G', 'G', 'G', 'G', 'G', 'G', 'G', 'G', 'G', 'G', 'G', 'G', 'G', 'G', 'G', 'G', 'G', 'G', 'G', 'G', 'G', 'G', 'G', 'G', 'G', 'H', 'H', 'H', 'H', 'H', 'H', 'H', 'H', 'H', 'H', 'H', 'H', 'H', 'H', 'H', 'H', 'H', 'H', 'H', 'H', 'H', 'H', 'H', 'H', 'H', 'I', 'I', 'I', 'I', 'I', 'I', 'I', 'I', 'I', 'I', 'I', 'I', 'I', 'I', 'I', 'I', 'I', 'I', 'I', 'I', 'I', 'I', 'I', 'I', 'I']\n",
            "  Test:  index=[225 226 227 228 229 230 231 232 233 234 235 236 237 238 239 240 241 242\n",
            " 243 244 245 246 247 248 249], group=['J', 'J', 'J', 'J', 'J', 'J', 'J', 'J', 'J', 'J', 'J', 'J', 'J', 'J', 'J', 'J', 'J', 'J', 'J', 'J', 'J', 'J', 'J', 'J', 'J']\n",
            "#####\n",
            "Training Accuracies: [1. 1. 1. 1. 1. 1. 1. 1. 1. 1.]\n",
            "Test Accuracies: [0.68 0.52 0.68 0.56 0.64 0.52 0.68 0.76 0.68 0.6 ]\n",
            "\n",
            "Mean Training Accuracy: 1.0\n",
            "Std Training Accuracy: 0.0\n",
            "\n",
            "Mean Test Accuracy: 0.632\n",
            "Std Test Accuracy: 0.07547184905645284\n",
            "\n"
          ]
        }
      ]
    },
    {
      "cell_type": "markdown",
      "source": [
        "# Sampling bias"
      ],
      "metadata": {
        "id": "-zxlF19Yx2N_"
      }
    },
    {
      "cell_type": "markdown",
      "source": [
        "What if one subset of our data only have people of a certain age or income levels? This is typically referred to as a sampling bias.\n",
        "\n",
        "**Sampling bias** is systematic error due to a non-random sample of a population, causing some members of the population to be less likely to be included than others, resulting in a biased sample.\n",
        "\n",
        "Choosing and using a validation scheme leads to potentially sampling bias in practice. One possible solution is the n-times repetition of the validation scheme."
      ],
      "metadata": {
        "id": "0LrfLCE0x22k"
      }
    },
    {
      "cell_type": "markdown",
      "source": [
        "## 6. Repetition of holdout validation"
      ],
      "metadata": {
        "id": "37r2kK5cy8G9"
      }
    },
    {
      "cell_type": "markdown",
      "source": [
        "One way to overcome the sampling bias is the **n-times repetition** of the validation method, changing the seed of the pseudo-random numbers generator, that determines the data splitting.\n",
        "\n",
        "The performances on the different test sets will be averaged."
      ],
      "metadata": {
        "id": "cumVFxOyzCbE"
      }
    },
    {
      "cell_type": "code",
      "source": [
        "# 6. ShuffleSplit\n",
        "print(\"6. ShuffleSplit\")\n",
        "ss = ShuffleSplit(n_splits=10, test_size=0.2, random_state=42)\n",
        "for i, (train_index, test_index) in enumerate(ss.split(X)):\n",
        "    print(f\"Fold {i}:\")\n",
        "    print(f\"  Train: index={train_index}\")\n",
        "    print(f\"  Test:  index={test_index}\")\n",
        "    if 0 in list(test_index):\n",
        "      print()\n",
        "      print(\"0 found in the test set.\")\n",
        "      print()\n",
        "scores = cross_validate(model, X, y, cv = ss, scoring='accuracy', return_train_score=True)\n",
        "print('#####')\n",
        "print(f\"Training Accuracies: {scores['train_score']}\")\n",
        "print(f\"Test Accuracies: {scores['test_score']}\\n\")\n",
        "print(f\"Mean Training Accuracy: {np.mean(scores['train_score'])}\")\n",
        "print(f\"Std Training Accuracy: {np.std(scores['train_score'])}\\n\")\n",
        "print(f\"Mean Test Accuracy: {np.mean(scores['test_score'])}\")\n",
        "print(f\"Std Test Accuracy: {np.std(scores['test_score'])}\\n\")"
      ],
      "metadata": {
        "colab": {
          "base_uri": "https://localhost:8080/"
        },
        "id": "n2CS7q9Y1PxN",
        "outputId": "c3e9f301-5a07-4a59-fc08-9ae3922f8c34"
      },
      "execution_count": 10,
      "outputs": [
        {
          "output_type": "stream",
          "name": "stdout",
          "text": [
            "6. ShuffleSplit\n",
            "Fold 0:\n",
            "  Train: index=[132 225 238 119 136  66 217 154 168 229 233 156 117  84 125 167 245 109\n",
            " 172 234  73 158 115  75 237  82  29 126  79  86   5  56 186 231 170  65\n",
            " 140 124 213 148  31  12  35  28  42 218  22  93 212 101  51  95 143 199\n",
            "  76  41 113 152  78 147  26 241 164 243 137   0   2  77  46 100 127 150\n",
            " 248  90  85 175 195  98  36  61 162 139  11 244 198  27 155   4 122  32\n",
            " 144 178 138  62 135 128 226 205  70 192  64  44 165  40 123 153  23 211\n",
            " 183  81  39 209  47  94 190 161  43 145 182   3 105  53 133 227 193 232\n",
            "  49 163  80  34 206   7 171 110  91  83 223 228  89   8  13  59 215 131\n",
            "  17 166  72 220 134 204 230  63  54 107  50 239 174 208 189 246 207 221\n",
            " 169  58  48  88  21  57 203 160 242 187 191 129  37 157 235   1  52 149\n",
            " 130 151 103  99 116  87 202  74 214 210 121 249  20 188  71 106  14  92\n",
            " 179 102]\n",
            "  Test:  index=[142   6  97  60 112 181 197 184   9 104 200 216 236 240  67 224 194  15\n",
            " 177  24 247  19 114  68 176  45  55  10  30 120 201  33 141 219  25 111\n",
            "  18 196 180 159 118  96 108 185 222  16 146  69 173  38]\n",
            "Fold 1:\n",
            "  Train: index=[ 71 156 204 186 104 121  18 189  77  70 240 107 198  78  39  54  46 149\n",
            " 185   4  73  52  99 106 178 142  69 213  51 153 191  88 171  61 122 237\n",
            " 192 247 224  62  95 129 126  91  14  86  75  13  15 166  64  19  44  35\n",
            "  56 231 227  12 131 136  49 183  25 233 176 245 170  42 218 174 132 234\n",
            " 229 225 105 164  65  22  85  31 113 194 200 222  57 190  24  17 175  66\n",
            " 206 148  94 214 195  23 220 123 197   5 116  45  16  48  34   3 238 181\n",
            "  60 110  27  96  29 182 201  26   7  50 108  37 157  21 118 114 239 179\n",
            " 144 134 135 193 212 215  20 141  32  67 208 168 188 162 210 244 109 246\n",
            " 145  92 152 217 228  83 243 165 163 199 226  74 115 211 248 119  53 151\n",
            " 147 130 207 223 146 249   8 159  36 196 139  47 242   1 112  59 111  89\n",
            " 143   6  98  41 221 158 150 177 216 184 219  10 128 103  81  38 127 167\n",
            " 160 232]\n",
            "  Test:  index=[205  72  79 154 120 180 137 203  68 241   9 187 202 235  40 155 124  30\n",
            "  43 102 209 101 125  55 161  80  97 117  63 169 173  58  87 236   2  28\n",
            "  82  76 140  84 230 100  90  93  33 133   0  11 172 138]\n",
            "\n",
            "0 found in the test set.\n",
            "\n",
            "Fold 2:\n",
            "  Train: index=[229 192  59 207   9 231  10  96 174 242 204 106 203 145  93 199  14  13\n",
            "  48  77  17 144 149 105 180 187 189  46 181  81  31 102 215 230   5  37\n",
            " 228  55 147  62 168  76   2 246 172 169  71 186  19 196  91 175 118 221\n",
            " 109 194 202 197  90 142  53 107  60 226  30  69 182 243  44  88  70 224\n",
            " 115 165 220 141 166 205 154 214   4 148  26   6 217 158 244 193 132 121\n",
            "  41 108  38  56 152  52 122  24 200 173 245 116 143 110  82  51 237  27\n",
            "   8  75 249 232  99  18 213  85 111 234  61 184  16  29 198 183  22  12\n",
            " 112 212  36 150 248 247  35  98 176 233 223 137 190  20 163 119 156  74\n",
            " 113  57 195 134 104 114 161 206 201 153  92   7  89  80  34 129  45  94\n",
            " 222 140  28  43  42  73 167 227  64  66  11 100 170 178 188 160  32 123\n",
            " 162 177 139 151  83 218 159 127 219   1  79  23  15   3 236  68   0  95\n",
            " 185 146]\n",
            "  Test:  index=[ 21 117 179 211  50  33  65 235  39  49  97 125 128 124 216 133  58 171\n",
            " 191  54 239 103 130 126 120  84  78  67 208 209  63  40 101  72  86 135\n",
            " 131 138 240 225 164 210 238  25 136  47 155 157 241  87]\n",
            "Fold 3:\n",
            "  Train: index=[138 134 158  32 113  61 124 218 243 142 247 159  36  40  41  39 155 245\n",
            " 100  66   9  67  75  12 149 175  43 163 195 207 229 217  63  14 183  17\n",
            " 232 202   6 235  58  99 221   1  87 126  86  27 157  13 118 116 119 174\n",
            " 176 246 244 169  35 140 170 135  47  62 106  93  55 154  85 198 120  25\n",
            "  72  26  44 130 223  48 249  45  89 199 220  69  21 215 210   4  20 171\n",
            " 121  60  92  95  24 147 103 167   7 143 203 209  79 191 110 114  42 125\n",
            " 230 241 211  68  83  16  73 194 137 131  28 238  80 240 105 179 186 184\n",
            "  51  90  78  29  81 248 222  37 165 102 178  74  65 141 224 150  46 111\n",
            " 225  56 236  53 214  11  49 122 234 117 181 161 153  38  71 237  91  33\n",
            "  31 112 192 189   3 204 172  50   0 109 200  77  84 144  82 231 201 164\n",
            "  52 228  22 180   2 101 132  94 196 208 219   5  54 239 148 128  98 104\n",
            "  97 160]\n",
            "  Test:  index=[212 139  15 227  88 205 226 107  59 188 168 136  70  96 166 145 206 133\n",
            "  76  34 197  18 123 190 187 193 177 162 185 146 233  19 115 127 152  64\n",
            " 108 242 156 151   8  23  30 129  10 173 216 213 182  57]\n",
            "Fold 4:\n",
            "  Train: index=[222  74  33 163  17   6   1 207  84 226  24 155 210  86 168 102  51 215\n",
            " 239 112  80 135  87  54  78 186 184  56  53 245  20 218 200 113 206 146\n",
            "  40 174 182  28  50 221  30  91 127 246 154 132 179 123 189 140 176  81\n",
            " 180 139 230 111  11 106  45  89 156 229 173   5 244 158 249 192  19 212\n",
            "  26  42  25 126  35 128 114 214 228 205  67 233 143 216 108  46 197 117\n",
            " 148  73 183 185 236  65  85 241 166 217  32 110  14 209 134  66 238 172\n",
            " 159 232  52 144 152 219 225  22  96 165 124  31 190 103  38 193 199 145\n",
            " 178  41  88 131 211 153 208 122  82 235 164 201  29 196  13 104  10  71\n",
            "  92 198  59 149 248  39   0  34  75 161 136 220 119 116  77 237 187  61\n",
            "  68  48  94  93 162 247 151 142 202   8  16  72 100  62  64  83 231 167\n",
            "  12 129 171 137 150   4   9 177 133 160   2 234  76  99 138 125  36  37\n",
            "  63 141]\n",
            "  Test:  index=[203 118 101  97  58   3 191 130 204 121  57  44  49 175 240 170 223 188\n",
            "  15  69 169 213  18 227 109 242  95  79   7 181 194 157 195  98 120  90\n",
            " 105  70  27 224  21 107 147  47 115  55  60  23  43 243]\n",
            "Fold 5:\n",
            "  Train: index=[ 14 223 101  17 221 122   5  15 125 152  22  70 115 133 237  94  76 191\n",
            " 104 234 228 235  48 110  78  18 131 184  43   2 217 243 200 194  42  60\n",
            "   0 142 178  90  93  65 117  72  61 170  82 207 196  32  55  68 158 204\n",
            " 205 132 209 174 103  38 167 168 183 218 185  20 155  25 208 193 248 222\n",
            " 231 106 240 241 189  63 211 206 176  11 156  30 230  26 173 105 116 239\n",
            "  75 121  16  33  40  99  41 198 166 145  69  74 179  97 108 192 153   3\n",
            "  21 249  24  39   8  13 114 113 127  58 212 157  80  23 107  85  98 171\n",
            "  52 136 165  36   4  19 139 118 129  10 147  46 128   1  81 187  28  35\n",
            " 197 124 111 146  84 150 160 203  73   6 175 238 141 181 164 195 143  45\n",
            " 119 236  77  87  95  34 242 232  91  96  50 229  53  71 186 214 215  66\n",
            "  56  64   7  92 134 177 247 219  54  86 224 123 161 109 210 201   9  31\n",
            " 130 102]\n",
            "  Test:  index=[216 112  37 199 190 182 169 149 120  29 180 188 126  12 148  51  27 172\n",
            "  83 154  47  88  79 244 137 138  89 135 202 100 151 140 162  59 227 163\n",
            " 226 159  62  67 225 220 245  57 246 213  49  44 144 233]\n",
            "Fold 6:\n",
            "  Train: index=[156  23 237 137 166  16 108 195 151 185  86  70  65 196  11   1  74 191\n",
            "  29  84  31 218 214  22  30 105  85 128   6 117 126  26 171  41  52 168\n",
            " 173  40 238  99 200  91 234  79  18 182 162  32 112  90 215 199 110  55\n",
            " 136  57 248 150 231  44 131  80 115  68  27 179 204  59 190  69 233  89\n",
            "  47 129 135 174  37  78 187 247  24  39 206  75 230 178  66 104 181  97\n",
            " 100 208 205 197  88 124 163 235 164 144 198  81 229 203 121  19  98   8\n",
            "  46 188 161   4   5 207 210  56 106  73 109 116  53 222  92 147  71  58\n",
            "   3  51 201  76 223  10 241 227  62 224 228 123 170  60 202 186 139  87\n",
            " 219  48 142  72 180 192 175 216  36 225 145  67 217 119 141 172   2 176\n",
            "  64 132  83 102 152 245   9 120 183 246 184  61 220 189  28  45  38 122\n",
            " 239  95 159  17 249  12 157  33 244 226  54 193 125 107 169 236  15 160\n",
            " 209 140]\n",
            "  Test:  index=[213 221  77  82   7 177 167 133  20  50 158 148 138  35  25 153  63  13\n",
            " 101 111   0 130  43 240  49 212 103 154 232 194  42 143 155 211  21 134\n",
            " 118  93  14 114 146 243 165 242 127 113  94  96 149  34]\n",
            "\n",
            "0 found in the test set.\n",
            "\n",
            "Fold 7:\n",
            "  Train: index=[ 30 158  29 128  84 216 134 126 139 237 206  34  73   9  27 104  58  55\n",
            "  36  93 157  69 122  50 110 170 227 107  86  54  18 150 199  12 203 197\n",
            " 155  99  13 178 154   2  25 228 217 114 245 242 112 119   6 142 169  61\n",
            " 137 222 159 187 143 190 172 153 176  72 167 168 213  66  60 235 103  48\n",
            "  43 238 105  97 211 113 177  89 131 102 234  76 149   1  96 221  85  53\n",
            "  79 231 120  75  40 163 151 135 101  32  44  10 233  94 109  81 160 210\n",
            " 219 201 200 138 193  87 241 116  62 230   8 214 223  16 152 195  45 147\n",
            " 182 121 192 198 171 189 209  49 191 247  78   7  52  92 144 248  59  71\n",
            " 226 204  17  11  23  24  63 162 188 161 239 165 123  57   0 130 196 184\n",
            " 146   5 229 186 100 207  46  20 220  91 183 125  80 194  26 202  21  83\n",
            " 205 174 129  31 115  74 156 246 118  14  38 232 140  98 208   3  28 249\n",
            " 173 225]\n",
            "  Test:  index=[212 215 133  82 141 180  22 181 106  42 166 132 148 185   4  67  47 224\n",
            "  88  56 236  15 218 164  41 244  37  51  77  70 243  65 108  95 240 111\n",
            " 175  39  33  35  90 145 124 117 127  64 136  68  19 179]\n",
            "Fold 8:\n",
            "  Train: index=[ 98 145  15  57 131 157 166  99  66 177 148   5 169 134 179  96 105 244\n",
            " 243 154 181  24  78 212 114 108 146 153 196   2   8 140 248  73 233 142\n",
            "  10 207 186 205 139 102 246  59 115  20 100 103 143  64  14 241 193  70\n",
            "  53  87 235 122  82  22 240 159  81 213  69  18 204   3 109 229  97  67\n",
            "  74 199 137  76 116 130  12 141  72  62  89 224 184  47  52 236 197  32\n",
            "  45  88  71 226 112 237 135 190 144 195 247  54  33  85 245 101  95 156\n",
            " 161 128  84 220 187 123 230  51 239 182 127 173  83  37 171 238 219  38\n",
            " 189  49 125  42 191  11 178 160  68  58  34 118 217  28  25 221  36 129\n",
            "  77 113 147 188 107 133 110 155  55  43 119  48 209 218 174 164 106 120\n",
            " 249 211 232  63  56 223 242 170   7  19 132   0 104  93  75 234  92 201\n",
            "  79  13 117 194   9 138  30  46 150  44 163 183 203 167 192   4 228 162\n",
            "  65  27]\n",
            "  Test:  index=[206 222 165 198  39 210  80 121  61  23 200 225  40  90  41 216 172 180\n",
            " 168 151  31 149   6 215 124 185  16   1  17  29 175 227 136 158  91 208\n",
            " 176  26  60 231 152  94  21 111 202 214  50  86  35 126]\n",
            "Fold 9:\n",
            "  Train: index=[ 53  19  62  17  58 154 155 225 209 106 247 238  95 242 187  79 102 109\n",
            "  78  44 167 173 197 123 158 237  42 110 141   5 128 211 239  93  61  51\n",
            " 221  74 210 165 143 186  65 116 164  13  37  75 119  32 172 230  81  21\n",
            " 185 111 243 204  64 206 113 234 156 103 114  91  22 170 139 202 147  83\n",
            " 195 126 127  16  11  15 131 233 105  54 249  30 193 231 150 226 115  29\n",
            "  97 188 208 190 157 161  85   2  57 181  43 192 222   7 203  26   4 129\n",
            " 218 228  12  69 248 179 135  72 130 212  96  35 108 180  31 183 101 223\n",
            " 220  45  23 168 217 232 244  41  66 214  84   6  34  63   1 152 184  76\n",
            "  77 137  10 159 162 142 224 175 245 148 246 160 107 227 174  68 182 216\n",
            " 163 146 145  88 201 166  59  99  18 229  49  67  36  90 153  48 207 151\n",
            "  71 169 124 120 121 215   9  14   8  25 136 219 213  20 117 149 118 140\n",
            " 122  46]\n",
            "  Test:  index=[ 27 177  82  40 194  86 199  39 235  28  38 178 171 125 138 191 176 112\n",
            " 100 196  70  50 189 134  56  73 104 240  60 200   3  47  87 198  33 205\n",
            " 132  92  80 144  98   0  52 133  94 241  89  55  24 236]\n",
            "\n",
            "0 found in the test set.\n",
            "\n",
            "#####\n",
            "Training Accuracies: [1. 1. 1. 1. 1. 1. 1. 1. 1. 1.]\n",
            "Test Accuracies: [0.66 0.64 0.52 0.68 0.56 0.6  0.64 0.56 0.52 0.68]\n",
            "\n",
            "Mean Training Accuracy: 1.0\n",
            "Std Training Accuracy: 0.0\n",
            "\n",
            "Mean Test Accuracy: 0.6060000000000001\n",
            "Std Test Accuracy: 0.05936328831862333\n",
            "\n"
          ]
        }
      ]
    },
    {
      "cell_type": "markdown",
      "source": [
        "# Unbalanced datasets"
      ],
      "metadata": {
        "id": "gEHIi2t6zNJz"
      }
    },
    {
      "cell_type": "markdown",
      "source": [
        "In some cases, there may be a large imbalance in the response variables.\n",
        "\n",
        "For example, in case of classification, there might be several times more negative samples than positive samples. For such problems, a slight variation in the simple cross validation technique is made, such that each fold contains approximately the same percentage of samples of each target class as the complete dataset."
      ],
      "metadata": {
        "id": "lXFs4DZVzTzn"
      }
    },
    {
      "cell_type": "markdown",
      "source": [
        "## 7. Stratified holdout validation"
      ],
      "metadata": {
        "id": "GCqOQrCjzgAC"
      }
    },
    {
      "cell_type": "code",
      "source": [
        "# 7. Stratified Train-Test Split\n",
        "print(\"1. Stratified Train-Test Split\")\n",
        "X_train, X_test, y_train, y_test = train_test_split(X, y, test_size=0.2, random_state=42, stratify = y)\n",
        "model.fit(X_train, y_train)\n",
        "train_acc = accuracy_score(y_train, model.predict(X_train))\n",
        "test_acc = accuracy_score(y_test, model.predict(X_test))\n",
        "print('#####')\n",
        "print(f\"Training Accuracy: {train_acc}\")\n",
        "print(f\"Test Accuracy: {test_acc}\\n\")"
      ],
      "metadata": {
        "colab": {
          "base_uri": "https://localhost:8080/"
        },
        "id": "kXDpj2eB1tKs",
        "outputId": "5313eddb-31bb-430a-aa65-51c2ac9ff180"
      },
      "execution_count": 11,
      "outputs": [
        {
          "output_type": "stream",
          "name": "stdout",
          "text": [
            "1. Stratified Train-Test Split\n",
            "#####\n",
            "Training Accuracy: 1.0\n",
            "Test Accuracy: 0.62\n",
            "\n"
          ]
        }
      ]
    },
    {
      "cell_type": "markdown",
      "source": [
        "## 8. Stratified kfoldCV"
      ],
      "metadata": {
        "id": "ILCUpoZCzrcX"
      }
    },
    {
      "cell_type": "code",
      "execution_count": 12,
      "metadata": {
        "colab": {
          "base_uri": "https://localhost:8080/"
        },
        "id": "WmOg5GbWafzw",
        "outputId": "a145c05a-bb4f-4868-f9cc-b5cac6c34950"
      },
      "outputs": [
        {
          "output_type": "stream",
          "name": "stdout",
          "text": [
            "8. Stratified K-Fold Cross-Validation\n",
            "#####\n",
            "Training Accuracies: [1. 1. 1. 1. 1.]\n",
            "Test Accuracies: [0.68 0.64 0.68 0.54 0.58]\n",
            "\n",
            "Mean Training Accuracy: 1.0\n",
            "Std Training Accuracy: 0.0\n",
            "\n",
            "Mean Test Accuracy: 0.624\n",
            "Std Test Accuracy: 0.05571355310873649\n",
            "\n"
          ]
        }
      ],
      "source": [
        "# 8. Stratified K-Fold Cross-Validation\n",
        "print(\"8. Stratified K-Fold Cross-Validation\")\n",
        "skf = StratifiedKFold(n_splits=5, shuffle=True, random_state=42)\n",
        "scores = cross_validate(model, X, y, cv = skf, scoring='accuracy', return_train_score=True)\n",
        "print('#####')\n",
        "print(f\"Training Accuracies: {scores['train_score']}\")\n",
        "print(f\"Test Accuracies: {scores['test_score']}\\n\")\n",
        "print(f\"Mean Training Accuracy: {np.mean(scores['train_score'])}\")\n",
        "print(f\"Std Training Accuracy: {np.std(scores['train_score'])}\\n\")\n",
        "print(f\"Mean Test Accuracy: {np.mean(scores['test_score'])}\")\n",
        "print(f\"Std Test Accuracy: {np.std(scores['test_score'])}\\n\")"
      ]
    },
    {
      "cell_type": "markdown",
      "source": [
        "# Hyperparameters tuning"
      ],
      "metadata": {
        "id": "ZIIAIoUDz39e"
      }
    },
    {
      "cell_type": "markdown",
      "source": [
        "A random forest classifier is a meta estimator that fits a number of decision tree classifiers on various sub-samples of the dataset and uses averaging to improve the predictive accuracy and control over-fitting. For classification tasks, the output of the random forest is the class selected by most trees (the modal response).\n",
        "\n",
        "While random forests often achieve higher accuracy than a single decision tree, they sacrifice the intrinsic interpretability present in decision trees. Decision trees are among a fairly small family of machine learning models that are easily interpretable along with linear models, rule-based models, and attention-based models. This interpretability is one of the most desirable qualities of decision trees. It allows developers to confirm that the model has learned realistic information from the data and allows end-users to have trust and confidence in the decisions made by the model[1]. For example, following the path that a decision tree takes to make its decision is quite trivial, but following the paths of tens or hundreds of trees is much harder. To achieve both performance and interpretability, some model compression techniques allow transforming a random forest into a minimal \"born-again\" decision tree that faithfully reproduces the same decision function [2, 3].\n",
        "\n",
        "Random forest classifier has, among others, the following **hyperparameters**:\n",
        "- *n_estimators*, default=100: the number of trees in the forest\n",
        "- *max_depth*, default=None: the maximum depth of the tree. If None, then nodes are expanded until all leaves are pure or until all leaves contain less than *min_samples_split* samples\n",
        "- *min_samples_split*, default=2: the minimum number of samples required to split an internal node\n",
        "- *min_samples_leaf*, default=1: the minimum number of samples required to be at a leaf node. A split point at any depth will only be considered if it leaves at least *min_samples_leaf* training samples in each of the left and right branches\n",
        "- *max_features*, default=”sqrt” (alternatives: \"log2\", None, int): the number of features to consider when looking for the best split\n",
        "\n",
        "**References**   \n",
        "[1] Hastie, Trevor; Tibshirani, Robert; Friedman, Jerome (2008). The Elements of Statistical Learning (2nd ed.). Springer. ISBN 0-387-95284-5.   \n",
        "[2] Sagi, Omer; Rokach, Lior (2020). \"Explainable decision forest: Transforming a decision forest into an interpretable tree\". Information Fusion. 61: 124–138. doi:10.1016/j.inffus.2020.03.013. S2CID 216444882.   \n",
        "[3] Vidal, Thibaut; Schiffer, Maximilian (2020). \"Born-Again Tree Ensembles\". International Conference on Machine Learning. 119. PMLR: 9743–9753. arXiv:2003.11132."
      ],
      "metadata": {
        "id": "QRaLCgeqz96H"
      }
    },
    {
      "cell_type": "markdown",
      "source": [
        "When you are optimizing the hyperparameters of your model and you use the same k-Fold CV strategy to tune the model and evaluate performance, you run the risk of overfitting. You do not want to estimate the accuracy of your model on the same split that you found the best hyperparameters for.\n",
        "\n",
        "\n",
        "Instead, we use a Nested kfold Cross-Validation strategy allowing to separate the hyperparameter tuning step from the error estimation step. To do this, we nest two k-fold cross-validation loops:\n",
        "\n",
        "\n",
        "*   The inner loop for hyperparameter tuning and\n",
        "*   the outer loop for estimating accuracy\n",
        "\n",
        "![](https://raw.githubusercontent.com/chiaramarzi/ML-models-validation-2024/main/figures/NestedkfoldCV.png)"
      ],
      "metadata": {
        "id": "HlZVfft77sCR"
      }
    },
    {
      "cell_type": "markdown",
      "source": [
        "## 9. Nested kfoldCV"
      ],
      "metadata": {
        "id": "W12Yfn0l76hj"
      }
    },
    {
      "cell_type": "code",
      "source": [
        "# 9. Nested kfoldCV\n",
        "outer_cv = KFold(n_splits=3, shuffle=True, random_state=0)\n",
        "inner_cv = KFold(n_splits=2, shuffle=True, random_state=0)\n",
        "\n",
        "clf = RandomForestClassifier(random_state = 42)\n",
        "param_grid = {\n",
        "\t'n_estimators': [10, 20, 25],\n",
        "\t'max_depth': [2, 3, 4],\n",
        "\t'max_features': [None, \"sqrt\", \"log2\"],\n",
        "}\n",
        "\n",
        "grid_search = GridSearchCV(clf,\n",
        "                           param_grid=param_grid,\n",
        "                           cv=inner_cv,\n",
        "                           refit='accuracy',\n",
        "                           scoring='accuracy',\n",
        "                           n_jobs=1,\n",
        "                           verbose = 4)\n",
        "score = cross_validate(grid_search, X=X, y=y, cv=outer_cv, return_train_score=True, return_estimator=True, scoring = 'accuracy', n_jobs=1)\n",
        "\n",
        "print('#####')\n",
        "print(f\"Training Accuracies: {score['train_score']}\")\n",
        "print(f\"Test Accuracies: {score['test_score']}\\n\")\n",
        "print(f\"Mean Training Accuracy: {np.mean(score['train_score'])}\")\n",
        "print(f\"Std Training Accuracy: {np.std(score['train_score'])}\\n\")\n",
        "print(f\"Mean Test Accuracy: {np.mean(score['test_score'])}\")\n",
        "print(f\"Std Test Accuracy: {np.std(score['test_score'])}\\n\")\n",
        "print(score['estimator'][0].best_estimator_)\n",
        "print(score['estimator'][1].best_estimator_)\n",
        "print(score['estimator'][2].best_estimator_)"
      ],
      "metadata": {
        "colab": {
          "base_uri": "https://localhost:8080/"
        },
        "id": "U3uIkh-OeX-h",
        "outputId": "cd8ad824-5f79-4762-9253-e303166915f3"
      },
      "execution_count": 13,
      "outputs": [
        {
          "output_type": "stream",
          "name": "stdout",
          "text": [
            "Fitting 2 folds for each of 27 candidates, totalling 54 fits\n",
            "[CV 1/2] END max_depth=2, max_features=None, n_estimators=10;, score=0.735 total time=   0.0s\n",
            "[CV 2/2] END max_depth=2, max_features=None, n_estimators=10;, score=0.663 total time=   0.0s\n",
            "[CV 1/2] END max_depth=2, max_features=None, n_estimators=20;, score=0.735 total time=   0.1s\n",
            "[CV 2/2] END max_depth=2, max_features=None, n_estimators=20;, score=0.687 total time=   0.1s\n",
            "[CV 1/2] END max_depth=2, max_features=None, n_estimators=25;, score=0.735 total time=   0.1s\n",
            "[CV 2/2] END max_depth=2, max_features=None, n_estimators=25;, score=0.687 total time=   0.1s\n",
            "[CV 1/2] END max_depth=2, max_features=sqrt, n_estimators=10;, score=0.735 total time=   0.0s\n",
            "[CV 2/2] END max_depth=2, max_features=sqrt, n_estimators=10;, score=0.663 total time=   0.0s\n",
            "[CV 1/2] END max_depth=2, max_features=sqrt, n_estimators=20;, score=0.735 total time=   0.0s\n",
            "[CV 2/2] END max_depth=2, max_features=sqrt, n_estimators=20;, score=0.687 total time=   0.0s\n",
            "[CV 1/2] END max_depth=2, max_features=sqrt, n_estimators=25;, score=0.735 total time=   0.1s\n",
            "[CV 2/2] END max_depth=2, max_features=sqrt, n_estimators=25;, score=0.687 total time=   0.1s\n",
            "[CV 1/2] END max_depth=2, max_features=log2, n_estimators=10;, score=0.735 total time=   0.0s\n",
            "[CV 2/2] END max_depth=2, max_features=log2, n_estimators=10;, score=0.663 total time=   0.0s\n",
            "[CV 1/2] END max_depth=2, max_features=log2, n_estimators=20;, score=0.735 total time=   0.0s\n",
            "[CV 2/2] END max_depth=2, max_features=log2, n_estimators=20;, score=0.687 total time=   0.0s\n",
            "[CV 1/2] END max_depth=2, max_features=log2, n_estimators=25;, score=0.735 total time=   0.0s\n",
            "[CV 2/2] END max_depth=2, max_features=log2, n_estimators=25;, score=0.687 total time=   0.1s\n",
            "[CV 1/2] END max_depth=3, max_features=None, n_estimators=10;, score=0.687 total time=   0.0s\n",
            "[CV 2/2] END max_depth=3, max_features=None, n_estimators=10;, score=0.602 total time=   0.0s\n",
            "[CV 1/2] END max_depth=3, max_features=None, n_estimators=20;, score=0.687 total time=   0.1s\n",
            "[CV 2/2] END max_depth=3, max_features=None, n_estimators=20;, score=0.602 total time=   0.1s\n",
            "[CV 1/2] END max_depth=3, max_features=None, n_estimators=25;, score=0.687 total time=   0.1s\n",
            "[CV 2/2] END max_depth=3, max_features=None, n_estimators=25;, score=0.602 total time=   0.1s\n",
            "[CV 1/2] END max_depth=3, max_features=sqrt, n_estimators=10;, score=0.687 total time=   0.0s\n",
            "[CV 2/2] END max_depth=3, max_features=sqrt, n_estimators=10;, score=0.602 total time=   0.0s\n",
            "[CV 1/2] END max_depth=3, max_features=sqrt, n_estimators=20;, score=0.687 total time=   0.0s\n",
            "[CV 2/2] END max_depth=3, max_features=sqrt, n_estimators=20;, score=0.602 total time=   0.0s\n",
            "[CV 1/2] END max_depth=3, max_features=sqrt, n_estimators=25;, score=0.687 total time=   0.1s\n",
            "[CV 2/2] END max_depth=3, max_features=sqrt, n_estimators=25;, score=0.602 total time=   0.1s\n",
            "[CV 1/2] END max_depth=3, max_features=log2, n_estimators=10;, score=0.687 total time=   0.0s\n",
            "[CV 2/2] END max_depth=3, max_features=log2, n_estimators=10;, score=0.602 total time=   0.0s\n",
            "[CV 1/2] END max_depth=3, max_features=log2, n_estimators=20;, score=0.687 total time=   0.0s\n",
            "[CV 2/2] END max_depth=3, max_features=log2, n_estimators=20;, score=0.602 total time=   0.0s\n",
            "[CV 1/2] END max_depth=3, max_features=log2, n_estimators=25;, score=0.687 total time=   0.1s\n",
            "[CV 2/2] END max_depth=3, max_features=log2, n_estimators=25;, score=0.602 total time=   0.0s\n",
            "[CV 1/2] END max_depth=4, max_features=None, n_estimators=10;, score=0.663 total time=   0.1s\n",
            "[CV 2/2] END max_depth=4, max_features=None, n_estimators=10;, score=0.663 total time=   0.1s\n",
            "[CV 1/2] END max_depth=4, max_features=None, n_estimators=20;, score=0.687 total time=   0.1s\n",
            "[CV 2/2] END max_depth=4, max_features=None, n_estimators=20;, score=0.699 total time=   0.1s\n",
            "[CV 1/2] END max_depth=4, max_features=None, n_estimators=25;, score=0.687 total time=   0.1s\n",
            "[CV 2/2] END max_depth=4, max_features=None, n_estimators=25;, score=0.687 total time=   0.1s\n",
            "[CV 1/2] END max_depth=4, max_features=sqrt, n_estimators=10;, score=0.651 total time=   0.0s\n",
            "[CV 2/2] END max_depth=4, max_features=sqrt, n_estimators=10;, score=0.663 total time=   0.0s\n",
            "[CV 1/2] END max_depth=4, max_features=sqrt, n_estimators=20;, score=0.687 total time=   0.1s\n",
            "[CV 2/2] END max_depth=4, max_features=sqrt, n_estimators=20;, score=0.699 total time=   0.0s\n",
            "[CV 1/2] END max_depth=4, max_features=sqrt, n_estimators=25;, score=0.687 total time=   0.1s\n",
            "[CV 2/2] END max_depth=4, max_features=sqrt, n_estimators=25;, score=0.675 total time=   0.1s\n",
            "[CV 1/2] END max_depth=4, max_features=log2, n_estimators=10;, score=0.651 total time=   0.0s\n",
            "[CV 2/2] END max_depth=4, max_features=log2, n_estimators=10;, score=0.663 total time=   0.0s\n",
            "[CV 1/2] END max_depth=4, max_features=log2, n_estimators=20;, score=0.687 total time=   0.0s\n",
            "[CV 2/2] END max_depth=4, max_features=log2, n_estimators=20;, score=0.699 total time=   0.0s\n",
            "[CV 1/2] END max_depth=4, max_features=log2, n_estimators=25;, score=0.687 total time=   0.1s\n",
            "[CV 2/2] END max_depth=4, max_features=log2, n_estimators=25;, score=0.687 total time=   0.1s\n",
            "Fitting 2 folds for each of 27 candidates, totalling 54 fits\n",
            "[CV 1/2] END max_depth=2, max_features=None, n_estimators=10;, score=0.667 total time=   0.0s\n",
            "[CV 2/2] END max_depth=2, max_features=None, n_estimators=10;, score=0.699 total time=   0.0s\n",
            "[CV 1/2] END max_depth=2, max_features=None, n_estimators=20;, score=0.702 total time=   0.1s\n",
            "[CV 2/2] END max_depth=2, max_features=None, n_estimators=20;, score=0.723 total time=   0.1s\n",
            "[CV 1/2] END max_depth=2, max_features=None, n_estimators=25;, score=0.655 total time=   0.1s\n",
            "[CV 2/2] END max_depth=2, max_features=None, n_estimators=25;, score=0.723 total time=   0.1s\n",
            "[CV 1/2] END max_depth=2, max_features=sqrt, n_estimators=10;, score=0.667 total time=   0.0s\n",
            "[CV 2/2] END max_depth=2, max_features=sqrt, n_estimators=10;, score=0.699 total time=   0.0s\n",
            "[CV 1/2] END max_depth=2, max_features=sqrt, n_estimators=20;, score=0.702 total time=   0.0s\n",
            "[CV 2/2] END max_depth=2, max_features=sqrt, n_estimators=20;, score=0.723 total time=   0.0s\n",
            "[CV 1/2] END max_depth=2, max_features=sqrt, n_estimators=25;, score=0.655 total time=   0.1s\n",
            "[CV 2/2] END max_depth=2, max_features=sqrt, n_estimators=25;, score=0.723 total time=   0.1s\n",
            "[CV 1/2] END max_depth=2, max_features=log2, n_estimators=10;, score=0.667 total time=   0.0s\n",
            "[CV 2/2] END max_depth=2, max_features=log2, n_estimators=10;, score=0.699 total time=   0.0s\n",
            "[CV 1/2] END max_depth=2, max_features=log2, n_estimators=20;, score=0.702 total time=   0.0s\n",
            "[CV 2/2] END max_depth=2, max_features=log2, n_estimators=20;, score=0.723 total time=   0.0s\n",
            "[CV 1/2] END max_depth=2, max_features=log2, n_estimators=25;, score=0.655 total time=   0.1s\n",
            "[CV 2/2] END max_depth=2, max_features=log2, n_estimators=25;, score=0.723 total time=   0.1s\n",
            "[CV 1/2] END max_depth=3, max_features=None, n_estimators=10;, score=0.607 total time=   0.0s\n",
            "[CV 2/2] END max_depth=3, max_features=None, n_estimators=10;, score=0.699 total time=   0.0s\n",
            "[CV 1/2] END max_depth=3, max_features=None, n_estimators=20;, score=0.643 total time=   0.1s\n",
            "[CV 2/2] END max_depth=3, max_features=None, n_estimators=20;, score=0.723 total time=   0.1s\n",
            "[CV 1/2] END max_depth=3, max_features=None, n_estimators=25;, score=0.667 total time=   0.1s\n",
            "[CV 2/2] END max_depth=3, max_features=None, n_estimators=25;, score=0.723 total time=   0.1s\n",
            "[CV 1/2] END max_depth=3, max_features=sqrt, n_estimators=10;, score=0.607 total time=   0.0s\n",
            "[CV 2/2] END max_depth=3, max_features=sqrt, n_estimators=10;, score=0.699 total time=   0.0s\n",
            "[CV 1/2] END max_depth=3, max_features=sqrt, n_estimators=20;, score=0.643 total time=   0.1s\n",
            "[CV 2/2] END max_depth=3, max_features=sqrt, n_estimators=20;, score=0.723 total time=   0.0s\n",
            "[CV 1/2] END max_depth=3, max_features=sqrt, n_estimators=25;, score=0.667 total time=   0.0s\n",
            "[CV 2/2] END max_depth=3, max_features=sqrt, n_estimators=25;, score=0.723 total time=   0.1s\n",
            "[CV 1/2] END max_depth=3, max_features=log2, n_estimators=10;, score=0.607 total time=   0.0s\n",
            "[CV 2/2] END max_depth=3, max_features=log2, n_estimators=10;, score=0.699 total time=   0.0s\n",
            "[CV 1/2] END max_depth=3, max_features=log2, n_estimators=20;, score=0.643 total time=   0.1s\n",
            "[CV 2/2] END max_depth=3, max_features=log2, n_estimators=20;, score=0.723 total time=   0.0s\n",
            "[CV 1/2] END max_depth=3, max_features=log2, n_estimators=25;, score=0.667 total time=   0.0s\n",
            "[CV 2/2] END max_depth=3, max_features=log2, n_estimators=25;, score=0.723 total time=   0.1s\n",
            "[CV 1/2] END max_depth=4, max_features=None, n_estimators=10;, score=0.631 total time=   0.0s\n",
            "[CV 2/2] END max_depth=4, max_features=None, n_estimators=10;, score=0.699 total time=   0.0s\n",
            "[CV 1/2] END max_depth=4, max_features=None, n_estimators=20;, score=0.643 total time=   0.1s\n",
            "[CV 2/2] END max_depth=4, max_features=None, n_estimators=20;, score=0.699 total time=   0.1s\n",
            "[CV 1/2] END max_depth=4, max_features=None, n_estimators=25;, score=0.643 total time=   0.1s\n",
            "[CV 2/2] END max_depth=4, max_features=None, n_estimators=25;, score=0.699 total time=   0.1s\n",
            "[CV 1/2] END max_depth=4, max_features=sqrt, n_estimators=10;, score=0.631 total time=   0.0s\n",
            "[CV 2/2] END max_depth=4, max_features=sqrt, n_estimators=10;, score=0.699 total time=   0.0s\n",
            "[CV 1/2] END max_depth=4, max_features=sqrt, n_estimators=20;, score=0.643 total time=   0.0s\n",
            "[CV 2/2] END max_depth=4, max_features=sqrt, n_estimators=20;, score=0.699 total time=   0.0s\n",
            "[CV 1/2] END max_depth=4, max_features=sqrt, n_estimators=25;, score=0.643 total time=   0.1s\n",
            "[CV 2/2] END max_depth=4, max_features=sqrt, n_estimators=25;, score=0.699 total time=   0.1s\n",
            "[CV 1/2] END max_depth=4, max_features=log2, n_estimators=10;, score=0.631 total time=   0.0s\n",
            "[CV 2/2] END max_depth=4, max_features=log2, n_estimators=10;, score=0.699 total time=   0.0s\n",
            "[CV 1/2] END max_depth=4, max_features=log2, n_estimators=20;, score=0.643 total time=   0.0s\n",
            "[CV 2/2] END max_depth=4, max_features=log2, n_estimators=20;, score=0.699 total time=   0.0s\n",
            "[CV 1/2] END max_depth=4, max_features=log2, n_estimators=25;, score=0.643 total time=   0.1s\n",
            "[CV 2/2] END max_depth=4, max_features=log2, n_estimators=25;, score=0.699 total time=   0.1s\n",
            "Fitting 2 folds for each of 27 candidates, totalling 54 fits\n",
            "[CV 1/2] END max_depth=2, max_features=None, n_estimators=10;, score=0.583 total time=   0.0s\n",
            "[CV 2/2] END max_depth=2, max_features=None, n_estimators=10;, score=0.675 total time=   0.0s\n",
            "[CV 1/2] END max_depth=2, max_features=None, n_estimators=20;, score=0.583 total time=   0.1s\n",
            "[CV 2/2] END max_depth=2, max_features=None, n_estimators=20;, score=0.675 total time=   0.1s\n",
            "[CV 1/2] END max_depth=2, max_features=None, n_estimators=25;, score=0.583 total time=   0.1s\n",
            "[CV 2/2] END max_depth=2, max_features=None, n_estimators=25;, score=0.675 total time=   0.1s\n",
            "[CV 1/2] END max_depth=2, max_features=sqrt, n_estimators=10;, score=0.583 total time=   0.0s\n",
            "[CV 2/2] END max_depth=2, max_features=sqrt, n_estimators=10;, score=0.675 total time=   0.0s\n",
            "[CV 1/2] END max_depth=2, max_features=sqrt, n_estimators=20;, score=0.583 total time=   0.0s\n",
            "[CV 2/2] END max_depth=2, max_features=sqrt, n_estimators=20;, score=0.675 total time=   0.0s\n",
            "[CV 1/2] END max_depth=2, max_features=sqrt, n_estimators=25;, score=0.583 total time=   0.0s\n",
            "[CV 2/2] END max_depth=2, max_features=sqrt, n_estimators=25;, score=0.675 total time=   0.0s\n",
            "[CV 1/2] END max_depth=2, max_features=log2, n_estimators=10;, score=0.583 total time=   0.0s\n",
            "[CV 2/2] END max_depth=2, max_features=log2, n_estimators=10;, score=0.675 total time=   0.0s\n",
            "[CV 1/2] END max_depth=2, max_features=log2, n_estimators=20;, score=0.583 total time=   0.0s\n",
            "[CV 2/2] END max_depth=2, max_features=log2, n_estimators=20;, score=0.675 total time=   0.0s\n",
            "[CV 1/2] END max_depth=2, max_features=log2, n_estimators=25;, score=0.583 total time=   0.1s\n",
            "[CV 2/2] END max_depth=2, max_features=log2, n_estimators=25;, score=0.675 total time=   0.1s\n",
            "[CV 1/2] END max_depth=3, max_features=None, n_estimators=10;, score=0.488 total time=   0.0s\n",
            "[CV 2/2] END max_depth=3, max_features=None, n_estimators=10;, score=0.723 total time=   0.0s\n",
            "[CV 1/2] END max_depth=3, max_features=None, n_estimators=20;, score=0.476 total time=   0.1s\n",
            "[CV 2/2] END max_depth=3, max_features=None, n_estimators=20;, score=0.723 total time=   0.1s\n",
            "[CV 1/2] END max_depth=3, max_features=None, n_estimators=25;, score=0.512 total time=   0.1s\n",
            "[CV 2/2] END max_depth=3, max_features=None, n_estimators=25;, score=0.735 total time=   0.1s\n",
            "[CV 1/2] END max_depth=3, max_features=sqrt, n_estimators=10;, score=0.488 total time=   0.0s\n",
            "[CV 2/2] END max_depth=3, max_features=sqrt, n_estimators=10;, score=0.723 total time=   0.0s\n",
            "[CV 1/2] END max_depth=3, max_features=sqrt, n_estimators=20;, score=0.476 total time=   0.0s\n",
            "[CV 2/2] END max_depth=3, max_features=sqrt, n_estimators=20;, score=0.723 total time=   0.0s\n",
            "[CV 1/2] END max_depth=3, max_features=sqrt, n_estimators=25;, score=0.512 total time=   0.0s\n",
            "[CV 2/2] END max_depth=3, max_features=sqrt, n_estimators=25;, score=0.735 total time=   0.1s\n",
            "[CV 1/2] END max_depth=3, max_features=log2, n_estimators=10;, score=0.488 total time=   0.0s\n",
            "[CV 2/2] END max_depth=3, max_features=log2, n_estimators=10;, score=0.723 total time=   0.0s\n",
            "[CV 1/2] END max_depth=3, max_features=log2, n_estimators=20;, score=0.476 total time=   0.1s\n",
            "[CV 2/2] END max_depth=3, max_features=log2, n_estimators=20;, score=0.723 total time=   0.0s\n",
            "[CV 1/2] END max_depth=3, max_features=log2, n_estimators=25;, score=0.512 total time=   0.0s\n",
            "[CV 2/2] END max_depth=3, max_features=log2, n_estimators=25;, score=0.735 total time=   0.1s\n",
            "[CV 1/2] END max_depth=4, max_features=None, n_estimators=10;, score=0.512 total time=   0.0s\n",
            "[CV 2/2] END max_depth=4, max_features=None, n_estimators=10;, score=0.699 total time=   0.1s\n",
            "[CV 1/2] END max_depth=4, max_features=None, n_estimators=20;, score=0.512 total time=   0.1s\n",
            "[CV 2/2] END max_depth=4, max_features=None, n_estimators=20;, score=0.687 total time=   0.1s\n",
            "[CV 1/2] END max_depth=4, max_features=None, n_estimators=25;, score=0.512 total time=   0.1s\n",
            "[CV 2/2] END max_depth=4, max_features=None, n_estimators=25;, score=0.687 total time=   0.1s\n",
            "[CV 1/2] END max_depth=4, max_features=sqrt, n_estimators=10;, score=0.512 total time=   0.0s\n",
            "[CV 2/2] END max_depth=4, max_features=sqrt, n_estimators=10;, score=0.699 total time=   0.0s\n",
            "[CV 1/2] END max_depth=4, max_features=sqrt, n_estimators=20;, score=0.512 total time=   0.0s\n",
            "[CV 2/2] END max_depth=4, max_features=sqrt, n_estimators=20;, score=0.687 total time=   0.0s\n",
            "[CV 1/2] END max_depth=4, max_features=sqrt, n_estimators=25;, score=0.512 total time=   0.1s\n",
            "[CV 2/2] END max_depth=4, max_features=sqrt, n_estimators=25;, score=0.687 total time=   0.1s\n",
            "[CV 1/2] END max_depth=4, max_features=log2, n_estimators=10;, score=0.512 total time=   0.0s\n",
            "[CV 2/2] END max_depth=4, max_features=log2, n_estimators=10;, score=0.699 total time=   0.0s\n",
            "[CV 1/2] END max_depth=4, max_features=log2, n_estimators=20;, score=0.512 total time=   0.1s\n",
            "[CV 2/2] END max_depth=4, max_features=log2, n_estimators=20;, score=0.687 total time=   0.1s\n",
            "[CV 1/2] END max_depth=4, max_features=log2, n_estimators=25;, score=0.512 total time=   0.1s\n",
            "[CV 2/2] END max_depth=4, max_features=log2, n_estimators=25;, score=0.687 total time=   0.1s\n",
            "#####\n",
            "Training Accuracies: [0.75903614 0.73053892 0.70658683]\n",
            "Test Accuracies: [0.5952381 0.6746988 0.6626506]\n",
            "\n",
            "Mean Training Accuracy: 0.7320539643604357\n",
            "Std Training Accuracy: 0.021439127164851447\n",
            "\n",
            "Mean Test Accuracy: 0.644195830942819\n",
            "Std Test Accuracy: 0.03496602781045703\n",
            "\n",
            "RandomForestClassifier(max_depth=2, max_features=None, n_estimators=20,\n",
            "                       random_state=42)\n",
            "RandomForestClassifier(max_depth=2, max_features=None, n_estimators=20,\n",
            "                       random_state=42)\n",
            "RandomForestClassifier(max_depth=2, max_features=None, n_estimators=10,\n",
            "                       random_state=42)\n"
          ]
        }
      ]
    }
  ]
}